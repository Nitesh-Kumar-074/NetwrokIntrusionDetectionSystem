{
  "nbformat": 4,
  "nbformat_minor": 0,
  "metadata": {
    "colab": {
      "provenance": [],
      "mount_file_id": "1pH9wcM9A5l3MFzE0K19unXP-Z_56yebm",
      "authorship_tag": "ABX9TyNJWEUqu5bawIU2Sza8AzGG",
      "include_colab_link": true
    },
    "kernelspec": {
      "name": "python3",
      "display_name": "Python 3"
    },
    "language_info": {
      "name": "python"
    }
  },
  "cells": [
    {
      "cell_type": "markdown",
      "metadata": {
        "id": "view-in-github",
        "colab_type": "text"
      },
      "source": [
        "<a href=\"https://colab.research.google.com/github/Nitesh-Kumar-074/NetwrokIntrusionDetectionSystem/blob/main/NIDS3.ipynb\" target=\"_parent\"><img src=\"https://colab.research.google.com/assets/colab-badge.svg\" alt=\"Open In Colab\"/></a>"
      ]
    },
    {
      "cell_type": "code",
      "execution_count": null,
      "metadata": {
        "colab": {
          "base_uri": "https://localhost:8080/"
        },
        "id": "mcsUrRGY9hRQ",
        "outputId": "4646480d-6c68-4c13-f94a-87e9718e822e"
      },
      "outputs": [
        {
          "output_type": "stream",
          "name": "stdout",
          "text": [
            "Drive already mounted at /content/drive; to attempt to forcibly remount, call drive.mount(\"/content/drive\", force_remount=True).\n"
          ]
        }
      ],
      "source": [
        "from google.colab import drive\n",
        "drive.mount('/content/drive')"
      ]
    },
    {
      "cell_type": "code",
      "source": [
        "import pandas as pd\n",
        "import matplotlib.pyplot as plt\n",
        "import numpy as np\n",
        "import seaborn as sns\n",
        "import pickle"
      ],
      "metadata": {
        "id": "OHxBQhNT9qho"
      },
      "execution_count": null,
      "outputs": []
    },
    {
      "cell_type": "code",
      "source": [
        "\n",
        "from sklearn.preprocessing import StandardScaler,LabelEncoder,OneHotEncoder\n",
        "\n",
        "from sklearn.model_selection import train_test_split\n",
        "from sklearn.linear_model import LogisticRegression,SGDClassifier\n",
        "from sklearn.svm import LinearSVC\n",
        "from sklearn.naive_bayes import MultinomialNB\n",
        "from sklearn.tree import DecisionTreeClassifier\n",
        "from sklearn.ensemble import RandomForestClassifier\n",
        "# import xgboost as xgb\n",
        "\n",
        "\n",
        "from sklearn.metrics import accuracy_score,confusion_matrix,make_scorer,auc,f1_score,roc_curve\n",
        "from sklearn.model_selection import GridSearchCV, RandomizedSearchCV, cross_validate, cross_val_predict"
      ],
      "metadata": {
        "id": "7ICfoy-cFe8S"
      },
      "execution_count": null,
      "outputs": []
    },
    {
      "cell_type": "code",
      "source": [
        "train_data = pd.read_csv(r\"/content/drive/MyDrive/train_alldata3_EDA.csv\",chunksize=10000)\n",
        "train = pd.concat(train_data,ignore_index=True)"
      ],
      "metadata": {
        "id": "pxTeMu_295_u"
      },
      "execution_count": null,
      "outputs": []
    },
    {
      "cell_type": "code",
      "source": [
        "train.columns"
      ],
      "metadata": {
        "id": "duxSkjPLsCvr",
        "outputId": "2e937681-89ec-43cf-8126-c886139b24ff",
        "colab": {
          "base_uri": "https://localhost:8080/"
        }
      },
      "execution_count": null,
      "outputs": [
        {
          "output_type": "execute_result",
          "data": {
            "text/plain": [
              "Index(['srcip', 'sport', 'dstip', 'dsport', 'proto', 'state', 'dur', 'sbytes',\n",
              "       'dbytes', 'sttl', 'dttl', 'sloss', 'dloss', 'service', 'sload', 'dload',\n",
              "       'spkts', 'dpkts', 'swin', 'dwin', 'stcpb', 'dtcpb', 'smeansz',\n",
              "       'dmeansz', 'trans_depth', 'res_bdy_len', 'sjit', 'djit', 'stime',\n",
              "       'ltime', 'sintpkt', 'dintpkt', 'tcprtt', 'synack', 'ackdat',\n",
              "       'is_sm_ips_ports', 'ct_state_ttl', 'ct_flw_http_mthd', 'is_ftp_login',\n",
              "       'ct_ftp_cmd', 'ct_srv_src', 'ct_srv_dst', 'ct_dst_ltm', 'ct_src_ltm',\n",
              "       'ct_src_dport_ltm', 'ct_dst_sport_ltm', 'ct_dst_src_ltm', 'attack_cat',\n",
              "       'label'],\n",
              "      dtype='object')"
            ]
          },
          "metadata": {},
          "execution_count": 82
        }
      ]
    },
    {
      "cell_type": "code",
      "source": [
        "test_data = pd.read_csv(r\"/content/drive/MyDrive/test_alldata_EDA.csv\",chunksize=10000)\n",
        "test = pd.concat(test_data,ignore_index=True)"
      ],
      "metadata": {
        "id": "YRa4Dzny99k4"
      },
      "execution_count": null,
      "outputs": []
    },
    {
      "cell_type": "code",
      "source": [
        "def multi_corr(col1, col2=\"label\", df=train):\n",
        "    '''\n",
        "    This function returns correlation between 2 given features.\n",
        "    Also gives corr of the given features with \"label\" afetr applying log1p to it.\n",
        "    '''\n",
        "    corr = df[[col1, col2]].corr().iloc[0,1]\n",
        "    log_corr = df[col1].apply(np.log1p).corr(df[col2])\n",
        "\n",
        "    print(\"Correlation : {}\\nlog_Correlation: {}\".format(corr, log_corr))"
      ],
      "metadata": {
        "id": "PcrzU4dk-Wmh"
      },
      "execution_count": null,
      "outputs": []
    },
    {
      "cell_type": "code",
      "source": [
        "def corr(col1, col2=\"label\", df=train):\n",
        "    \"\"\"\n",
        "    This function returns correlation between 2 given features\n",
        "    \"\"\"\n",
        "    return df[[col1, col2]].corr().iloc[0,1]"
      ],
      "metadata": {
        "id": "4KNg3ZjiBAnL"
      },
      "execution_count": null,
      "outputs": []
    },
    {
      "cell_type": "code",
      "source": [
        "non_numeric_cols = train.select_dtypes(exclude=[np.number]).columns.tolist()\n",
        "\n",
        "print(non_numeric_cols)"
      ],
      "metadata": {
        "colab": {
          "base_uri": "https://localhost:8080/"
        },
        "id": "bNL9CbhqBUC8",
        "outputId": "f0a999f2-3f38-49cf-de0f-47e41ba072f2"
      },
      "execution_count": null,
      "outputs": [
        {
          "output_type": "stream",
          "name": "stdout",
          "text": [
            "['srcip', 'sport', 'dstip', 'dsport', 'proto', 'state', 'service', 'attack_cat']\n"
          ]
        }
      ]
    },
    {
      "cell_type": "code",
      "source": [
        "train_numeric = train.drop(columns=non_numeric_cols)"
      ],
      "metadata": {
        "id": "IOSbASQYBXLe"
      },
      "execution_count": null,
      "outputs": []
    },
    {
      "cell_type": "code",
      "source": [
        "# Selecting all the features with high correlation values with other features\n",
        "# Refer: https://chrisalbon.com/machine_learning/feature_selection/drop_highly_correlated_features/\n",
        "corr_matrix = train_numeric.corr().abs()\n",
        "\n",
        "# Select upper triangle of correlation matrix\n",
        "upper = corr_matrix.where(np.triu(np.ones(corr_matrix.shape), k=1).astype(np.bool))\n",
        "\n",
        "# Find index of feature columns with correlation greater than 0.9\n",
        "to_drop = [column for column in upper.columns if any(upper[column] > 0.95)]"
      ],
      "metadata": {
        "id": "fUsawW5aBCkx"
      },
      "execution_count": null,
      "outputs": []
    },
    {
      "cell_type": "code",
      "source": [
        "# We don't want to use these features for plotting because these are having high corr\n",
        "# And most likely have same kind of plots with already plotted feature\n",
        "print(to_drop)"
      ],
      "metadata": {
        "colab": {
          "base_uri": "https://localhost:8080/"
        },
        "id": "FvEuYdjGBFCP",
        "outputId": "120ddcfa-2a80-4b75-acf6-1e93c6449afc"
      },
      "execution_count": null,
      "outputs": [
        {
          "output_type": "stream",
          "name": "stdout",
          "text": [
            "['sloss', 'dloss', 'dpkts', 'dwin', 'ltime', 'ct_srv_dst', 'ct_src_dport_ltm', 'ct_dst_src_ltm']\n"
          ]
        }
      ]
    },
    {
      "cell_type": "code",
      "source": [
        "saved_dict = {}\n",
        "with open('/content/drive/My Drive/saved_dict.pkl', 'rb') as file:\n",
        "    saved_dict = pickle.load(file)"
      ],
      "metadata": {
        "id": "QpxjA3egBgjq"
      },
      "execution_count": null,
      "outputs": []
    },
    {
      "cell_type": "code",
      "source": [
        "len(saved_dict['columns'])"
      ],
      "metadata": {
        "colab": {
          "base_uri": "https://localhost:8080/"
        },
        "id": "6yG_vDB-NWUY",
        "outputId": "7ae02a67-0b59-4ed7-cdd9-e10ab7aeb422"
      },
      "execution_count": null,
      "outputs": [
        {
          "output_type": "execute_result",
          "data": {
            "text/plain": [
              "48"
            ]
          },
          "metadata": {},
          "execution_count": 91
        }
      ]
    },
    {
      "cell_type": "code",
      "source": [
        "\n",
        "saved_dict['corr_col'] = to_drop"
      ],
      "metadata": {
        "id": "_9St749wBlPK"
      },
      "execution_count": null,
      "outputs": []
    },
    {
      "cell_type": "code",
      "source": [
        "# removing the features from train and test data\n",
        "train.drop(columns=to_drop, inplace=True)"
      ],
      "metadata": {
        "id": "1K5lnmtuBl8O"
      },
      "execution_count": null,
      "outputs": []
    },
    {
      "cell_type": "code",
      "source": [
        "\n",
        "train.shape, test.shape"
      ],
      "metadata": {
        "colab": {
          "base_uri": "https://localhost:8080/"
        },
        "id": "_1D1sCU4Bocd",
        "outputId": "014ec8fa-1ad5-4389-fec4-1111120687c9"
      },
      "execution_count": null,
      "outputs": [
        {
          "output_type": "execute_result",
          "data": {
            "text/plain": [
              "((1778032, 41), (762015, 49))"
            ]
          },
          "metadata": {},
          "execution_count": 94
        }
      ]
    },
    {
      "cell_type": "code",
      "source": [
        "\n",
        "# creating new features\n",
        "train['network_bytes'] = train['sbytes'] + train['dbytes']"
      ],
      "metadata": {
        "id": "CPRsBTPaBqY5"
      },
      "execution_count": null,
      "outputs": []
    },
    {
      "cell_type": "code",
      "source": [
        "\n",
        "train.shape, test.shape"
      ],
      "metadata": {
        "colab": {
          "base_uri": "https://localhost:8080/"
        },
        "id": "EBAsNXMkBtFL",
        "outputId": "20a79df5-fbe6-429a-8235-62b832ec3274"
      },
      "execution_count": null,
      "outputs": [
        {
          "output_type": "execute_result",
          "data": {
            "text/plain": [
              "((1778032, 42), (762015, 49))"
            ]
          },
          "metadata": {},
          "execution_count": 96
        }
      ]
    },
    {
      "cell_type": "code",
      "source": [
        "# Dropping columns which are not useful for the classification\n",
        "# attack_cat is for multiclass classification\n",
        "# all the other columns are address related and not present in sample train data\n",
        "train.drop(['srcip', 'sport', 'dstip', 'dsport', 'attack_cat'], axis=1, inplace=True)"
      ],
      "metadata": {
        "id": "0xxg1vQABvLH"
      },
      "execution_count": null,
      "outputs": []
    },
    {
      "cell_type": "code",
      "source": [
        "# To use during test data transformation\n",
        "saved_dict['to_drop'] = ['srcip', 'sport', 'dstip', 'dsport', 'attack_cat']"
      ],
      "metadata": {
        "id": "ep8vhQZhBxJg"
      },
      "execution_count": null,
      "outputs": []
    },
    {
      "cell_type": "code",
      "source": [
        "train.shape, test.shape"
      ],
      "metadata": {
        "colab": {
          "base_uri": "https://localhost:8080/"
        },
        "id": "CTeMh-ijBzMs",
        "outputId": "ddfae88c-6795-4ab7-fb30-63f954217a70"
      },
      "execution_count": null,
      "outputs": [
        {
          "output_type": "execute_result",
          "data": {
            "text/plain": [
              "((1778032, 37), (762015, 49))"
            ]
          },
          "metadata": {},
          "execution_count": 99
        }
      ]
    },
    {
      "cell_type": "markdown",
      "source": [
        "Applying log1p on Numerical columns"
      ],
      "metadata": {
        "id": "tw31E0SJB3zG"
      }
    },
    {
      "cell_type": "markdown",
      "source": [
        "During EDA we found that few numerical columns shows better visualization for pdf curves if we apply log1p to the columns.\n",
        "\n",
        "So I thought to try log1p on all the columns and check the correlation value of the original column and log1p column with target column i.e. \"label\""
      ],
      "metadata": {
        "id": "EL7f5uOsB6IT"
      }
    },
    {
      "cell_type": "code",
      "source": [
        "# Getting number of unique values of all the columns\n",
        "# If the unique values are high that means it has continuous set of values\n",
        "col_unique_values = train.nunique()"
      ],
      "metadata": {
        "id": "BmQXHPCzB1Ev"
      },
      "execution_count": null,
      "outputs": []
    },
    {
      "cell_type": "code",
      "source": [
        "# If the unique values are getter than some threshould than we will check its corr\n",
        "col = col_unique_values[col_unique_values>200].index"
      ],
      "metadata": {
        "id": "F_-0zde0B-QT"
      },
      "execution_count": null,
      "outputs": []
    },
    {
      "cell_type": "code",
      "source": [
        "# Checking corr value of original col and log1p applied col\n",
        "# Taking those columns whose unique values are getter than some threshould\n",
        "for column in col:\n",
        "    print(\"{:-^30}\".format(column))\n",
        "    multi_corr(column)"
      ],
      "metadata": {
        "colab": {
          "base_uri": "https://localhost:8080/"
        },
        "id": "-mJo2kWzCArY",
        "outputId": "2a8e7a9f-3223-4b58-fc32-8069d87f97de"
      },
      "execution_count": null,
      "outputs": [
        {
          "output_type": "stream",
          "name": "stdout",
          "text": [
            "-------------dur--------------\n",
            "Correlation : 0.0019274028701131475\n",
            "log_Correlation: -0.032544137564606314\n",
            "------------sbytes------------\n",
            "Correlation : 0.010344749695229565\n",
            "log_Correlation: -0.356163155589846\n",
            "------------dbytes------------\n",
            "Correlation : -0.07641408324436148\n",
            "log_Correlation: -0.5193868283741504\n",
            "------------sload-------------\n",
            "Correlation : 0.19211948100086756\n",
            "log_Correlation: 0.34746601450349446\n",
            "------------dload-------------\n",
            "Correlation : -0.21978094390126515\n",
            "log_Correlation: -0.6033545881626384\n",
            "------------spkts-------------\n",
            "Correlation : -0.12200425437154418\n",
            "log_Correlation: -0.31635338269675845\n",
            "------------stcpb-------------\n",
            "Correlation : -0.23365153315010911\n",
            "log_Correlation: -0.3135563222142899\n",
            "------------dtcpb-------------\n",
            "Correlation : -0.23346071773809843\n",
            "log_Correlation: -0.31340064798120926\n",
            "-----------smeansz------------\n",
            "Correlation : -0.06517990378993671\n",
            "log_Correlation: -0.15111450989648403\n",
            "-----------dmeansz------------\n",
            "Correlation : -0.27230605607442226\n",
            "log_Correlation: -0.5646402127401745\n",
            "---------res_bdy_len----------\n",
            "Correlation : -0.0268968526601601\n",
            "log_Correlation: -0.06794901821505832\n",
            "-------------sjit-------------\n",
            "Correlation : 0.020974632769798898\n",
            "log_Correlation: -0.18939100046544083\n",
            "-------------djit-------------\n",
            "Correlation : -0.05608646071436526\n",
            "log_Correlation: -0.20487075694129495\n",
            "------------stime-------------\n",
            "Correlation : 0.27571439334451364\n",
            "log_Correlation: 0.2757139750761029\n",
            "-----------sintpkt------------\n",
            "Correlation : -0.018971416506195472\n",
            "log_Correlation: -0.08027556633947588\n",
            "-----------dintpkt------------\n",
            "Correlation : -0.010747058729631331\n",
            "log_Correlation: -0.07938735519639496\n",
            "------------tcprtt------------\n",
            "Correlation : 0.14592508147519564\n",
            "log_Correlation: 0.18606697323316698\n",
            "------------synack------------\n",
            "Correlation : 0.12439627235187588\n",
            "log_Correlation: 0.1552259883602492\n",
            "------------ackdat------------\n",
            "Correlation : 0.14712408841119426\n",
            "log_Correlation: 0.1796204080402244\n",
            "--------network_bytes---------\n",
            "Correlation : -0.06790965631742822\n",
            "log_Correlation: -0.41043328745985463\n"
          ]
        }
      ]
    },
    {
      "cell_type": "code",
      "source": [
        "# Will apply log1p on this columns and remove original columns\n",
        "log1p_col = ['dur', 'sbytes', 'dbytes', 'sload', 'dload', 'spkts', 'stcpb', 'dtcpb', 'smeansz', 'dmeansz', 'sjit', 'djit', 'network_bytes']"
      ],
      "metadata": {
        "id": "SQRan9k7CDn5"
      },
      "execution_count": null,
      "outputs": []
    },
    {
      "cell_type": "code",
      "source": [
        "saved_dict['log1p_col'] = log1p_col"
      ],
      "metadata": {
        "id": "ztuZEQ7CEkNG"
      },
      "execution_count": null,
      "outputs": []
    },
    {
      "cell_type": "code",
      "source": [
        "# mode values of every features, will use to fill Null values of test\n",
        "mode_dict = train.mode().iloc[0].to_dict()"
      ],
      "metadata": {
        "id": "XUZiyAYGEmWB"
      },
      "execution_count": null,
      "outputs": []
    },
    {
      "cell_type": "code",
      "source": [
        "def log1p_transform(col, df=train):\n",
        "    '''\n",
        "    Apply log1p on given column.\n",
        "    Remove the original cola and keep log1p applied col\n",
        "    '''\n",
        "    new_col = col+'_log1p'\n",
        "    df[new_col] = df[col].apply(np.log1p)\n",
        "    df.drop(col, axis=1, inplace=True)"
      ],
      "metadata": {
        "id": "gPMZn6lbEoWU"
      },
      "execution_count": null,
      "outputs": []
    },
    {
      "cell_type": "code",
      "source": [
        "\n",
        "# Transforming columns with log1p\n",
        "for col in log1p_col:\n",
        "    log1p_transform(col, df=train)"
      ],
      "metadata": {
        "id": "4s6pz9nHEtkM"
      },
      "execution_count": null,
      "outputs": []
    },
    {
      "cell_type": "code",
      "source": [
        "train.shape"
      ],
      "metadata": {
        "colab": {
          "base_uri": "https://localhost:8080/"
        },
        "id": "0Jr2j2x221bk",
        "outputId": "0cec92d6-8e88-4941-d17a-b234b4830d5e"
      },
      "execution_count": null,
      "outputs": [
        {
          "output_type": "execute_result",
          "data": {
            "text/plain": [
              "(1778032, 37)"
            ]
          },
          "metadata": {},
          "execution_count": 108
        }
      ]
    },
    {
      "cell_type": "code",
      "source": [
        "train.columns"
      ],
      "metadata": {
        "colab": {
          "base_uri": "https://localhost:8080/"
        },
        "id": "SY5PWfD_25QG",
        "outputId": "07b7c36e-aa03-42e8-bd6e-5e680e3064bb"
      },
      "execution_count": null,
      "outputs": [
        {
          "output_type": "execute_result",
          "data": {
            "text/plain": [
              "Index(['proto', 'state', 'sttl', 'dttl', 'service', 'swin', 'trans_depth',\n",
              "       'res_bdy_len', 'stime', 'sintpkt', 'dintpkt', 'tcprtt', 'synack',\n",
              "       'ackdat', 'is_sm_ips_ports', 'ct_state_ttl', 'ct_flw_http_mthd',\n",
              "       'is_ftp_login', 'ct_ftp_cmd', 'ct_srv_src', 'ct_dst_ltm', 'ct_src_ltm',\n",
              "       'ct_dst_sport_ltm', 'label', 'dur_log1p', 'sbytes_log1p',\n",
              "       'dbytes_log1p', 'sload_log1p', 'dload_log1p', 'spkts_log1p',\n",
              "       'stcpb_log1p', 'dtcpb_log1p', 'smeansz_log1p', 'dmeansz_log1p',\n",
              "       'sjit_log1p', 'djit_log1p', 'network_bytes_log1p'],\n",
              "      dtype='object')"
            ]
          },
          "metadata": {},
          "execution_count": 109
        }
      ]
    },
    {
      "cell_type": "code",
      "source": [
        "\n",
        "train.shape, test.shape"
      ],
      "metadata": {
        "colab": {
          "base_uri": "https://localhost:8080/"
        },
        "id": "QybY39502-R_",
        "outputId": "b4840926-05af-4bd5-de28-e26d2f341ee8"
      },
      "execution_count": null,
      "outputs": [
        {
          "output_type": "execute_result",
          "data": {
            "text/plain": [
              "((1778032, 37), (762015, 49))"
            ]
          },
          "metadata": {},
          "execution_count": 110
        }
      ]
    },
    {
      "cell_type": "code",
      "source": [
        "\n",
        "# creating x and y set from the dataset\n",
        "x_train, y_train = train.drop(columns=['label']), train['label']\n",
        "x_test, y_test = test.drop(columns=['label']), test['label']\n"
      ],
      "metadata": {
        "id": "NXrQS3RZEv-4"
      },
      "execution_count": null,
      "outputs": []
    },
    {
      "cell_type": "code",
      "source": [
        "\n",
        "print(x_train.shape, y_train.shape)\n",
        "print()\n",
        "print(x_test.shape, y_test.shape)"
      ],
      "metadata": {
        "colab": {
          "base_uri": "https://localhost:8080/"
        },
        "id": "CtMQp-IGE2d6",
        "outputId": "2c97c0ba-7cf4-4b6f-9ec9-42546bacbc97"
      },
      "execution_count": null,
      "outputs": [
        {
          "output_type": "stream",
          "name": "stdout",
          "text": [
            "(1778032, 36) (1778032,)\n",
            "\n",
            "(762015, 48) (762015,)\n"
          ]
        }
      ]
    },
    {
      "cell_type": "code",
      "source": [
        "\n",
        "# Saving all the files to disk to use later\n",
        "pickle.dump((x_train, y_train), open('/content/drive/My Drive/final_train.pkl', 'wb'))\n",
        "pickle.dump((x_test, y_test), open('/content/drive/My Drive/final_test.pkl', 'wb'))"
      ],
      "metadata": {
        "id": "ISu6i07dFEEC"
      },
      "execution_count": null,
      "outputs": []
    },
    {
      "cell_type": "code",
      "source": [
        "\n",
        "# getting categorical and numerical columns in 2 diff lists\n",
        "cat_col = ['proto', 'service', 'state']\n",
        "num_col = list(set(x_train.columns) - set(cat_col))"
      ],
      "metadata": {
        "id": "SrKGFMPfFHNE"
      },
      "execution_count": null,
      "outputs": []
    },
    {
      "cell_type": "code",
      "source": [
        "# To use later, during test data cleaning\n",
        "saved_dict['cat_col'] = cat_col\n",
        "saved_dict['num_col'] = num_col"
      ],
      "metadata": {
        "id": "mpk1qc9gFJk9"
      },
      "execution_count": null,
      "outputs": []
    },
    {
      "cell_type": "code",
      "source": [
        "x_train.head()"
      ],
      "metadata": {
        "colab": {
          "base_uri": "https://localhost:8080/",
          "height": 255
        },
        "id": "M1cz1EsBFNAx",
        "outputId": "578ccbb0-b112-492c-fdd3-cb2cf374a37a"
      },
      "execution_count": null,
      "outputs": [
        {
          "output_type": "execute_result",
          "data": {
            "text/plain": [
              "  proto state  sttl  dttl service  swin  trans_depth  res_bdy_len       stime  \\\n",
              "0   udp   INT   254     0     NaN     0            0            0  1421930643   \n",
              "1   udp   INT    60     0     dns     0            0            0  1424246229   \n",
              "2   tcp   FIN    31    29     NaN   255            0            0  1421948071   \n",
              "3   tcp   FIN    31    29     ftp   255            0            0  1421971944   \n",
              "4   tcp   FIN    31    29     NaN   255            0            0  1421963050   \n",
              "\n",
              "     sintpkt  ...  sload_log1p  dload_log1p  spkts_log1p  stcpb_log1p  \\\n",
              "0  33.479000  ...     9.275600     0.000000     1.609438     0.000000   \n",
              "1   0.008000  ...    18.698312     0.000000     1.098612     0.000000   \n",
              "2   0.372205  ...    14.105347    16.314201     3.713572    20.196135   \n",
              "3  16.144740  ...    10.258074    10.501435     3.970292    21.803017   \n",
              "4   1.218800  ...    13.339317    13.412088     2.833213    20.673269   \n",
              "\n",
              "   dtcpb_log1p  smeansz_log1p  dmeansz_log1p  sjit_log1p  djit_log1p  \\\n",
              "0     0.000000       3.828641       0.000000    3.878042    0.000000   \n",
              "1     0.000000       4.890349       0.000000    0.000000    0.000000   \n",
              "2    21.733479       4.174387       6.313548    0.000000    3.012070   \n",
              "3    20.494420       4.043051       4.248495    7.264606    3.984562   \n",
              "4    21.855078       4.574711       4.521789    4.309533    1.138118   \n",
              "\n",
              "   network_bytes_log1p  \n",
              "0             5.187386  \n",
              "1             5.579730  \n",
              "2            10.152883  \n",
              "3             8.806124  \n",
              "4             8.066208  \n",
              "\n",
              "[5 rows x 36 columns]"
            ],
            "text/html": [
              "\n",
              "  <div id=\"df-260d1f0d-0f37-4d34-ad9a-3f0071d772fc\" class=\"colab-df-container\">\n",
              "    <div>\n",
              "<style scoped>\n",
              "    .dataframe tbody tr th:only-of-type {\n",
              "        vertical-align: middle;\n",
              "    }\n",
              "\n",
              "    .dataframe tbody tr th {\n",
              "        vertical-align: top;\n",
              "    }\n",
              "\n",
              "    .dataframe thead th {\n",
              "        text-align: right;\n",
              "    }\n",
              "</style>\n",
              "<table border=\"1\" class=\"dataframe\">\n",
              "  <thead>\n",
              "    <tr style=\"text-align: right;\">\n",
              "      <th></th>\n",
              "      <th>proto</th>\n",
              "      <th>state</th>\n",
              "      <th>sttl</th>\n",
              "      <th>dttl</th>\n",
              "      <th>service</th>\n",
              "      <th>swin</th>\n",
              "      <th>trans_depth</th>\n",
              "      <th>res_bdy_len</th>\n",
              "      <th>stime</th>\n",
              "      <th>sintpkt</th>\n",
              "      <th>...</th>\n",
              "      <th>sload_log1p</th>\n",
              "      <th>dload_log1p</th>\n",
              "      <th>spkts_log1p</th>\n",
              "      <th>stcpb_log1p</th>\n",
              "      <th>dtcpb_log1p</th>\n",
              "      <th>smeansz_log1p</th>\n",
              "      <th>dmeansz_log1p</th>\n",
              "      <th>sjit_log1p</th>\n",
              "      <th>djit_log1p</th>\n",
              "      <th>network_bytes_log1p</th>\n",
              "    </tr>\n",
              "  </thead>\n",
              "  <tbody>\n",
              "    <tr>\n",
              "      <th>0</th>\n",
              "      <td>udp</td>\n",
              "      <td>INT</td>\n",
              "      <td>254</td>\n",
              "      <td>0</td>\n",
              "      <td>NaN</td>\n",
              "      <td>0</td>\n",
              "      <td>0</td>\n",
              "      <td>0</td>\n",
              "      <td>1421930643</td>\n",
              "      <td>33.479000</td>\n",
              "      <td>...</td>\n",
              "      <td>9.275600</td>\n",
              "      <td>0.000000</td>\n",
              "      <td>1.609438</td>\n",
              "      <td>0.000000</td>\n",
              "      <td>0.000000</td>\n",
              "      <td>3.828641</td>\n",
              "      <td>0.000000</td>\n",
              "      <td>3.878042</td>\n",
              "      <td>0.000000</td>\n",
              "      <td>5.187386</td>\n",
              "    </tr>\n",
              "    <tr>\n",
              "      <th>1</th>\n",
              "      <td>udp</td>\n",
              "      <td>INT</td>\n",
              "      <td>60</td>\n",
              "      <td>0</td>\n",
              "      <td>dns</td>\n",
              "      <td>0</td>\n",
              "      <td>0</td>\n",
              "      <td>0</td>\n",
              "      <td>1424246229</td>\n",
              "      <td>0.008000</td>\n",
              "      <td>...</td>\n",
              "      <td>18.698312</td>\n",
              "      <td>0.000000</td>\n",
              "      <td>1.098612</td>\n",
              "      <td>0.000000</td>\n",
              "      <td>0.000000</td>\n",
              "      <td>4.890349</td>\n",
              "      <td>0.000000</td>\n",
              "      <td>0.000000</td>\n",
              "      <td>0.000000</td>\n",
              "      <td>5.579730</td>\n",
              "    </tr>\n",
              "    <tr>\n",
              "      <th>2</th>\n",
              "      <td>tcp</td>\n",
              "      <td>FIN</td>\n",
              "      <td>31</td>\n",
              "      <td>29</td>\n",
              "      <td>NaN</td>\n",
              "      <td>255</td>\n",
              "      <td>0</td>\n",
              "      <td>0</td>\n",
              "      <td>1421948071</td>\n",
              "      <td>0.372205</td>\n",
              "      <td>...</td>\n",
              "      <td>14.105347</td>\n",
              "      <td>16.314201</td>\n",
              "      <td>3.713572</td>\n",
              "      <td>20.196135</td>\n",
              "      <td>21.733479</td>\n",
              "      <td>4.174387</td>\n",
              "      <td>6.313548</td>\n",
              "      <td>0.000000</td>\n",
              "      <td>3.012070</td>\n",
              "      <td>10.152883</td>\n",
              "    </tr>\n",
              "    <tr>\n",
              "      <th>3</th>\n",
              "      <td>tcp</td>\n",
              "      <td>FIN</td>\n",
              "      <td>31</td>\n",
              "      <td>29</td>\n",
              "      <td>ftp</td>\n",
              "      <td>255</td>\n",
              "      <td>0</td>\n",
              "      <td>0</td>\n",
              "      <td>1421971944</td>\n",
              "      <td>16.144740</td>\n",
              "      <td>...</td>\n",
              "      <td>10.258074</td>\n",
              "      <td>10.501435</td>\n",
              "      <td>3.970292</td>\n",
              "      <td>21.803017</td>\n",
              "      <td>20.494420</td>\n",
              "      <td>4.043051</td>\n",
              "      <td>4.248495</td>\n",
              "      <td>7.264606</td>\n",
              "      <td>3.984562</td>\n",
              "      <td>8.806124</td>\n",
              "    </tr>\n",
              "    <tr>\n",
              "      <th>4</th>\n",
              "      <td>tcp</td>\n",
              "      <td>FIN</td>\n",
              "      <td>31</td>\n",
              "      <td>29</td>\n",
              "      <td>NaN</td>\n",
              "      <td>255</td>\n",
              "      <td>0</td>\n",
              "      <td>0</td>\n",
              "      <td>1421963050</td>\n",
              "      <td>1.218800</td>\n",
              "      <td>...</td>\n",
              "      <td>13.339317</td>\n",
              "      <td>13.412088</td>\n",
              "      <td>2.833213</td>\n",
              "      <td>20.673269</td>\n",
              "      <td>21.855078</td>\n",
              "      <td>4.574711</td>\n",
              "      <td>4.521789</td>\n",
              "      <td>4.309533</td>\n",
              "      <td>1.138118</td>\n",
              "      <td>8.066208</td>\n",
              "    </tr>\n",
              "  </tbody>\n",
              "</table>\n",
              "<p>5 rows × 36 columns</p>\n",
              "</div>\n",
              "    <div class=\"colab-df-buttons\">\n",
              "\n",
              "  <div class=\"colab-df-container\">\n",
              "    <button class=\"colab-df-convert\" onclick=\"convertToInteractive('df-260d1f0d-0f37-4d34-ad9a-3f0071d772fc')\"\n",
              "            title=\"Convert this dataframe to an interactive table.\"\n",
              "            style=\"display:none;\">\n",
              "\n",
              "  <svg xmlns=\"http://www.w3.org/2000/svg\" height=\"24px\" viewBox=\"0 -960 960 960\">\n",
              "    <path d=\"M120-120v-720h720v720H120Zm60-500h600v-160H180v160Zm220 220h160v-160H400v160Zm0 220h160v-160H400v160ZM180-400h160v-160H180v160Zm440 0h160v-160H620v160ZM180-180h160v-160H180v160Zm440 0h160v-160H620v160Z\"/>\n",
              "  </svg>\n",
              "    </button>\n",
              "\n",
              "  <style>\n",
              "    .colab-df-container {\n",
              "      display:flex;\n",
              "      gap: 12px;\n",
              "    }\n",
              "\n",
              "    .colab-df-convert {\n",
              "      background-color: #E8F0FE;\n",
              "      border: none;\n",
              "      border-radius: 50%;\n",
              "      cursor: pointer;\n",
              "      display: none;\n",
              "      fill: #1967D2;\n",
              "      height: 32px;\n",
              "      padding: 0 0 0 0;\n",
              "      width: 32px;\n",
              "    }\n",
              "\n",
              "    .colab-df-convert:hover {\n",
              "      background-color: #E2EBFA;\n",
              "      box-shadow: 0px 1px 2px rgba(60, 64, 67, 0.3), 0px 1px 3px 1px rgba(60, 64, 67, 0.15);\n",
              "      fill: #174EA6;\n",
              "    }\n",
              "\n",
              "    .colab-df-buttons div {\n",
              "      margin-bottom: 4px;\n",
              "    }\n",
              "\n",
              "    [theme=dark] .colab-df-convert {\n",
              "      background-color: #3B4455;\n",
              "      fill: #D2E3FC;\n",
              "    }\n",
              "\n",
              "    [theme=dark] .colab-df-convert:hover {\n",
              "      background-color: #434B5C;\n",
              "      box-shadow: 0px 1px 3px 1px rgba(0, 0, 0, 0.15);\n",
              "      filter: drop-shadow(0px 1px 2px rgba(0, 0, 0, 0.3));\n",
              "      fill: #FFFFFF;\n",
              "    }\n",
              "  </style>\n",
              "\n",
              "    <script>\n",
              "      const buttonEl =\n",
              "        document.querySelector('#df-260d1f0d-0f37-4d34-ad9a-3f0071d772fc button.colab-df-convert');\n",
              "      buttonEl.style.display =\n",
              "        google.colab.kernel.accessAllowed ? 'block' : 'none';\n",
              "\n",
              "      async function convertToInteractive(key) {\n",
              "        const element = document.querySelector('#df-260d1f0d-0f37-4d34-ad9a-3f0071d772fc');\n",
              "        const dataTable =\n",
              "          await google.colab.kernel.invokeFunction('convertToInteractive',\n",
              "                                                    [key], {});\n",
              "        if (!dataTable) return;\n",
              "\n",
              "        const docLinkHtml = 'Like what you see? Visit the ' +\n",
              "          '<a target=\"_blank\" href=https://colab.research.google.com/notebooks/data_table.ipynb>data table notebook</a>'\n",
              "          + ' to learn more about interactive tables.';\n",
              "        element.innerHTML = '';\n",
              "        dataTable['output_type'] = 'display_data';\n",
              "        await google.colab.output.renderOutput(dataTable, element);\n",
              "        const docLink = document.createElement('div');\n",
              "        docLink.innerHTML = docLinkHtml;\n",
              "        element.appendChild(docLink);\n",
              "      }\n",
              "    </script>\n",
              "  </div>\n",
              "\n",
              "\n",
              "<div id=\"df-3b57ca47-7daf-4dcb-89d0-09724c1cbbc8\">\n",
              "  <button class=\"colab-df-quickchart\" onclick=\"quickchart('df-3b57ca47-7daf-4dcb-89d0-09724c1cbbc8')\"\n",
              "            title=\"Suggest charts\"\n",
              "            style=\"display:none;\">\n",
              "\n",
              "<svg xmlns=\"http://www.w3.org/2000/svg\" height=\"24px\"viewBox=\"0 0 24 24\"\n",
              "     width=\"24px\">\n",
              "    <g>\n",
              "        <path d=\"M19 3H5c-1.1 0-2 .9-2 2v14c0 1.1.9 2 2 2h14c1.1 0 2-.9 2-2V5c0-1.1-.9-2-2-2zM9 17H7v-7h2v7zm4 0h-2V7h2v10zm4 0h-2v-4h2v4z\"/>\n",
              "    </g>\n",
              "</svg>\n",
              "  </button>\n",
              "\n",
              "<style>\n",
              "  .colab-df-quickchart {\n",
              "      --bg-color: #E8F0FE;\n",
              "      --fill-color: #1967D2;\n",
              "      --hover-bg-color: #E2EBFA;\n",
              "      --hover-fill-color: #174EA6;\n",
              "      --disabled-fill-color: #AAA;\n",
              "      --disabled-bg-color: #DDD;\n",
              "  }\n",
              "\n",
              "  [theme=dark] .colab-df-quickchart {\n",
              "      --bg-color: #3B4455;\n",
              "      --fill-color: #D2E3FC;\n",
              "      --hover-bg-color: #434B5C;\n",
              "      --hover-fill-color: #FFFFFF;\n",
              "      --disabled-bg-color: #3B4455;\n",
              "      --disabled-fill-color: #666;\n",
              "  }\n",
              "\n",
              "  .colab-df-quickchart {\n",
              "    background-color: var(--bg-color);\n",
              "    border: none;\n",
              "    border-radius: 50%;\n",
              "    cursor: pointer;\n",
              "    display: none;\n",
              "    fill: var(--fill-color);\n",
              "    height: 32px;\n",
              "    padding: 0;\n",
              "    width: 32px;\n",
              "  }\n",
              "\n",
              "  .colab-df-quickchart:hover {\n",
              "    background-color: var(--hover-bg-color);\n",
              "    box-shadow: 0 1px 2px rgba(60, 64, 67, 0.3), 0 1px 3px 1px rgba(60, 64, 67, 0.15);\n",
              "    fill: var(--button-hover-fill-color);\n",
              "  }\n",
              "\n",
              "  .colab-df-quickchart-complete:disabled,\n",
              "  .colab-df-quickchart-complete:disabled:hover {\n",
              "    background-color: var(--disabled-bg-color);\n",
              "    fill: var(--disabled-fill-color);\n",
              "    box-shadow: none;\n",
              "  }\n",
              "\n",
              "  .colab-df-spinner {\n",
              "    border: 2px solid var(--fill-color);\n",
              "    border-color: transparent;\n",
              "    border-bottom-color: var(--fill-color);\n",
              "    animation:\n",
              "      spin 1s steps(1) infinite;\n",
              "  }\n",
              "\n",
              "  @keyframes spin {\n",
              "    0% {\n",
              "      border-color: transparent;\n",
              "      border-bottom-color: var(--fill-color);\n",
              "      border-left-color: var(--fill-color);\n",
              "    }\n",
              "    20% {\n",
              "      border-color: transparent;\n",
              "      border-left-color: var(--fill-color);\n",
              "      border-top-color: var(--fill-color);\n",
              "    }\n",
              "    30% {\n",
              "      border-color: transparent;\n",
              "      border-left-color: var(--fill-color);\n",
              "      border-top-color: var(--fill-color);\n",
              "      border-right-color: var(--fill-color);\n",
              "    }\n",
              "    40% {\n",
              "      border-color: transparent;\n",
              "      border-right-color: var(--fill-color);\n",
              "      border-top-color: var(--fill-color);\n",
              "    }\n",
              "    60% {\n",
              "      border-color: transparent;\n",
              "      border-right-color: var(--fill-color);\n",
              "    }\n",
              "    80% {\n",
              "      border-color: transparent;\n",
              "      border-right-color: var(--fill-color);\n",
              "      border-bottom-color: var(--fill-color);\n",
              "    }\n",
              "    90% {\n",
              "      border-color: transparent;\n",
              "      border-bottom-color: var(--fill-color);\n",
              "    }\n",
              "  }\n",
              "</style>\n",
              "\n",
              "  <script>\n",
              "    async function quickchart(key) {\n",
              "      const quickchartButtonEl =\n",
              "        document.querySelector('#' + key + ' button');\n",
              "      quickchartButtonEl.disabled = true;  // To prevent multiple clicks.\n",
              "      quickchartButtonEl.classList.add('colab-df-spinner');\n",
              "      try {\n",
              "        const charts = await google.colab.kernel.invokeFunction(\n",
              "            'suggestCharts', [key], {});\n",
              "      } catch (error) {\n",
              "        console.error('Error during call to suggestCharts:', error);\n",
              "      }\n",
              "      quickchartButtonEl.classList.remove('colab-df-spinner');\n",
              "      quickchartButtonEl.classList.add('colab-df-quickchart-complete');\n",
              "    }\n",
              "    (() => {\n",
              "      let quickchartButtonEl =\n",
              "        document.querySelector('#df-3b57ca47-7daf-4dcb-89d0-09724c1cbbc8 button');\n",
              "      quickchartButtonEl.style.display =\n",
              "        google.colab.kernel.accessAllowed ? 'block' : 'none';\n",
              "    })();\n",
              "  </script>\n",
              "</div>\n",
              "\n",
              "    </div>\n",
              "  </div>\n"
            ],
            "application/vnd.google.colaboratory.intrinsic+json": {
              "type": "dataframe",
              "variable_name": "x_train"
            }
          },
          "metadata": {},
          "execution_count": 116
        }
      ]
    },
    {
      "cell_type": "markdown",
      "source": [
        "Standardizing\n",
        "As we have seen that the range of few features in this dataset is very large. So we will keep everything within certain range by applying standardscaler. After this all the features will have mean 0 and std 1"
      ],
      "metadata": {
        "id": "T0ER4-3kFUcr"
      }
    },
    {
      "cell_type": "code",
      "source": [
        "# Standardizing the data\n",
        "scaler = StandardScaler()\n",
        "scaler = scaler.fit(x_train[num_col])"
      ],
      "metadata": {
        "id": "bpfhdvBmFOwj"
      },
      "execution_count": null,
      "outputs": []
    },
    {
      "cell_type": "code",
      "source": [
        "x_train[num_col] = scaler.transform(x_train[num_col])"
      ],
      "metadata": {
        "id": "nmBaIEIfFWxB"
      },
      "execution_count": null,
      "outputs": []
    },
    {
      "cell_type": "code",
      "source": [
        "x_train.head()"
      ],
      "metadata": {
        "colab": {
          "base_uri": "https://localhost:8080/",
          "height": 255
        },
        "id": "KUXqCNlYFntx",
        "outputId": "9d760f9b-3211-43d8-fe5e-4b6a33593bd3"
      },
      "execution_count": null,
      "outputs": [
        {
          "output_type": "execute_result",
          "data": {
            "text/plain": [
              "  proto state      sttl      dttl service      swin  trans_depth  res_bdy_len  \\\n",
              "0   udp   INT  2.561444 -0.717760     NaN -1.196045    -0.225343    -0.089113   \n",
              "1   udp   INT -0.037542 -0.717760     dns -1.196045    -0.225343    -0.089113   \n",
              "2   tcp   FIN -0.426051 -0.041365     NaN  0.836096    -0.225343    -0.089113   \n",
              "3   tcp   FIN -0.426051 -0.041365     ftp  0.836096    -0.225343    -0.089113   \n",
              "4   tcp   FIN -0.426051 -0.041365     NaN  0.836096    -0.225343    -0.089113   \n",
              "\n",
              "      stime   sintpkt  ...  sload_log1p  dload_log1p  spkts_log1p  \\\n",
              "0 -1.172764 -0.057567  ...    -1.383776    -1.879995    -0.704801   \n",
              "1  0.868469 -0.069616  ...     1.614925    -1.879995    -1.080734   \n",
              "2 -1.157401 -0.069485  ...     0.153252     0.988351     0.843701   \n",
              "3 -1.136357 -0.063807  ...    -1.071111    -0.033644     1.032630   \n",
              "4 -1.144197 -0.069180  ...    -0.090531     0.478104     0.195816   \n",
              "\n",
              "   stcpb_log1p  dtcpb_log1p  smeansz_log1p  dmeansz_log1p  sjit_log1p  \\\n",
              "0    -1.190007    -1.189697      -1.137341      -1.850553    0.204270   \n",
              "1    -1.190007    -1.189697       0.565988      -1.850553   -0.995343   \n",
              "2     0.741629     0.888925      -0.582651       0.881301   -0.995343   \n",
              "3     0.895318     0.770420      -0.793357      -0.012242    1.251851   \n",
              "4     0.787264     0.900555       0.059601       0.106012    0.337745   \n",
              "\n",
              "   djit_log1p  network_bytes_log1p  \n",
              "0   -0.899657            -1.229918  \n",
              "1   -0.899657            -1.062092  \n",
              "2    0.170283             0.894089  \n",
              "3    0.515730             0.318009  \n",
              "4   -0.495378             0.001507  \n",
              "\n",
              "[5 rows x 36 columns]"
            ],
            "text/html": [
              "\n",
              "  <div id=\"df-ab8b7ef1-adf2-433a-86db-37b152091d8a\" class=\"colab-df-container\">\n",
              "    <div>\n",
              "<style scoped>\n",
              "    .dataframe tbody tr th:only-of-type {\n",
              "        vertical-align: middle;\n",
              "    }\n",
              "\n",
              "    .dataframe tbody tr th {\n",
              "        vertical-align: top;\n",
              "    }\n",
              "\n",
              "    .dataframe thead th {\n",
              "        text-align: right;\n",
              "    }\n",
              "</style>\n",
              "<table border=\"1\" class=\"dataframe\">\n",
              "  <thead>\n",
              "    <tr style=\"text-align: right;\">\n",
              "      <th></th>\n",
              "      <th>proto</th>\n",
              "      <th>state</th>\n",
              "      <th>sttl</th>\n",
              "      <th>dttl</th>\n",
              "      <th>service</th>\n",
              "      <th>swin</th>\n",
              "      <th>trans_depth</th>\n",
              "      <th>res_bdy_len</th>\n",
              "      <th>stime</th>\n",
              "      <th>sintpkt</th>\n",
              "      <th>...</th>\n",
              "      <th>sload_log1p</th>\n",
              "      <th>dload_log1p</th>\n",
              "      <th>spkts_log1p</th>\n",
              "      <th>stcpb_log1p</th>\n",
              "      <th>dtcpb_log1p</th>\n",
              "      <th>smeansz_log1p</th>\n",
              "      <th>dmeansz_log1p</th>\n",
              "      <th>sjit_log1p</th>\n",
              "      <th>djit_log1p</th>\n",
              "      <th>network_bytes_log1p</th>\n",
              "    </tr>\n",
              "  </thead>\n",
              "  <tbody>\n",
              "    <tr>\n",
              "      <th>0</th>\n",
              "      <td>udp</td>\n",
              "      <td>INT</td>\n",
              "      <td>2.561444</td>\n",
              "      <td>-0.717760</td>\n",
              "      <td>NaN</td>\n",
              "      <td>-1.196045</td>\n",
              "      <td>-0.225343</td>\n",
              "      <td>-0.089113</td>\n",
              "      <td>-1.172764</td>\n",
              "      <td>-0.057567</td>\n",
              "      <td>...</td>\n",
              "      <td>-1.383776</td>\n",
              "      <td>-1.879995</td>\n",
              "      <td>-0.704801</td>\n",
              "      <td>-1.190007</td>\n",
              "      <td>-1.189697</td>\n",
              "      <td>-1.137341</td>\n",
              "      <td>-1.850553</td>\n",
              "      <td>0.204270</td>\n",
              "      <td>-0.899657</td>\n",
              "      <td>-1.229918</td>\n",
              "    </tr>\n",
              "    <tr>\n",
              "      <th>1</th>\n",
              "      <td>udp</td>\n",
              "      <td>INT</td>\n",
              "      <td>-0.037542</td>\n",
              "      <td>-0.717760</td>\n",
              "      <td>dns</td>\n",
              "      <td>-1.196045</td>\n",
              "      <td>-0.225343</td>\n",
              "      <td>-0.089113</td>\n",
              "      <td>0.868469</td>\n",
              "      <td>-0.069616</td>\n",
              "      <td>...</td>\n",
              "      <td>1.614925</td>\n",
              "      <td>-1.879995</td>\n",
              "      <td>-1.080734</td>\n",
              "      <td>-1.190007</td>\n",
              "      <td>-1.189697</td>\n",
              "      <td>0.565988</td>\n",
              "      <td>-1.850553</td>\n",
              "      <td>-0.995343</td>\n",
              "      <td>-0.899657</td>\n",
              "      <td>-1.062092</td>\n",
              "    </tr>\n",
              "    <tr>\n",
              "      <th>2</th>\n",
              "      <td>tcp</td>\n",
              "      <td>FIN</td>\n",
              "      <td>-0.426051</td>\n",
              "      <td>-0.041365</td>\n",
              "      <td>NaN</td>\n",
              "      <td>0.836096</td>\n",
              "      <td>-0.225343</td>\n",
              "      <td>-0.089113</td>\n",
              "      <td>-1.157401</td>\n",
              "      <td>-0.069485</td>\n",
              "      <td>...</td>\n",
              "      <td>0.153252</td>\n",
              "      <td>0.988351</td>\n",
              "      <td>0.843701</td>\n",
              "      <td>0.741629</td>\n",
              "      <td>0.888925</td>\n",
              "      <td>-0.582651</td>\n",
              "      <td>0.881301</td>\n",
              "      <td>-0.995343</td>\n",
              "      <td>0.170283</td>\n",
              "      <td>0.894089</td>\n",
              "    </tr>\n",
              "    <tr>\n",
              "      <th>3</th>\n",
              "      <td>tcp</td>\n",
              "      <td>FIN</td>\n",
              "      <td>-0.426051</td>\n",
              "      <td>-0.041365</td>\n",
              "      <td>ftp</td>\n",
              "      <td>0.836096</td>\n",
              "      <td>-0.225343</td>\n",
              "      <td>-0.089113</td>\n",
              "      <td>-1.136357</td>\n",
              "      <td>-0.063807</td>\n",
              "      <td>...</td>\n",
              "      <td>-1.071111</td>\n",
              "      <td>-0.033644</td>\n",
              "      <td>1.032630</td>\n",
              "      <td>0.895318</td>\n",
              "      <td>0.770420</td>\n",
              "      <td>-0.793357</td>\n",
              "      <td>-0.012242</td>\n",
              "      <td>1.251851</td>\n",
              "      <td>0.515730</td>\n",
              "      <td>0.318009</td>\n",
              "    </tr>\n",
              "    <tr>\n",
              "      <th>4</th>\n",
              "      <td>tcp</td>\n",
              "      <td>FIN</td>\n",
              "      <td>-0.426051</td>\n",
              "      <td>-0.041365</td>\n",
              "      <td>NaN</td>\n",
              "      <td>0.836096</td>\n",
              "      <td>-0.225343</td>\n",
              "      <td>-0.089113</td>\n",
              "      <td>-1.144197</td>\n",
              "      <td>-0.069180</td>\n",
              "      <td>...</td>\n",
              "      <td>-0.090531</td>\n",
              "      <td>0.478104</td>\n",
              "      <td>0.195816</td>\n",
              "      <td>0.787264</td>\n",
              "      <td>0.900555</td>\n",
              "      <td>0.059601</td>\n",
              "      <td>0.106012</td>\n",
              "      <td>0.337745</td>\n",
              "      <td>-0.495378</td>\n",
              "      <td>0.001507</td>\n",
              "    </tr>\n",
              "  </tbody>\n",
              "</table>\n",
              "<p>5 rows × 36 columns</p>\n",
              "</div>\n",
              "    <div class=\"colab-df-buttons\">\n",
              "\n",
              "  <div class=\"colab-df-container\">\n",
              "    <button class=\"colab-df-convert\" onclick=\"convertToInteractive('df-ab8b7ef1-adf2-433a-86db-37b152091d8a')\"\n",
              "            title=\"Convert this dataframe to an interactive table.\"\n",
              "            style=\"display:none;\">\n",
              "\n",
              "  <svg xmlns=\"http://www.w3.org/2000/svg\" height=\"24px\" viewBox=\"0 -960 960 960\">\n",
              "    <path d=\"M120-120v-720h720v720H120Zm60-500h600v-160H180v160Zm220 220h160v-160H400v160Zm0 220h160v-160H400v160ZM180-400h160v-160H180v160Zm440 0h160v-160H620v160ZM180-180h160v-160H180v160Zm440 0h160v-160H620v160Z\"/>\n",
              "  </svg>\n",
              "    </button>\n",
              "\n",
              "  <style>\n",
              "    .colab-df-container {\n",
              "      display:flex;\n",
              "      gap: 12px;\n",
              "    }\n",
              "\n",
              "    .colab-df-convert {\n",
              "      background-color: #E8F0FE;\n",
              "      border: none;\n",
              "      border-radius: 50%;\n",
              "      cursor: pointer;\n",
              "      display: none;\n",
              "      fill: #1967D2;\n",
              "      height: 32px;\n",
              "      padding: 0 0 0 0;\n",
              "      width: 32px;\n",
              "    }\n",
              "\n",
              "    .colab-df-convert:hover {\n",
              "      background-color: #E2EBFA;\n",
              "      box-shadow: 0px 1px 2px rgba(60, 64, 67, 0.3), 0px 1px 3px 1px rgba(60, 64, 67, 0.15);\n",
              "      fill: #174EA6;\n",
              "    }\n",
              "\n",
              "    .colab-df-buttons div {\n",
              "      margin-bottom: 4px;\n",
              "    }\n",
              "\n",
              "    [theme=dark] .colab-df-convert {\n",
              "      background-color: #3B4455;\n",
              "      fill: #D2E3FC;\n",
              "    }\n",
              "\n",
              "    [theme=dark] .colab-df-convert:hover {\n",
              "      background-color: #434B5C;\n",
              "      box-shadow: 0px 1px 3px 1px rgba(0, 0, 0, 0.15);\n",
              "      filter: drop-shadow(0px 1px 2px rgba(0, 0, 0, 0.3));\n",
              "      fill: #FFFFFF;\n",
              "    }\n",
              "  </style>\n",
              "\n",
              "    <script>\n",
              "      const buttonEl =\n",
              "        document.querySelector('#df-ab8b7ef1-adf2-433a-86db-37b152091d8a button.colab-df-convert');\n",
              "      buttonEl.style.display =\n",
              "        google.colab.kernel.accessAllowed ? 'block' : 'none';\n",
              "\n",
              "      async function convertToInteractive(key) {\n",
              "        const element = document.querySelector('#df-ab8b7ef1-adf2-433a-86db-37b152091d8a');\n",
              "        const dataTable =\n",
              "          await google.colab.kernel.invokeFunction('convertToInteractive',\n",
              "                                                    [key], {});\n",
              "        if (!dataTable) return;\n",
              "\n",
              "        const docLinkHtml = 'Like what you see? Visit the ' +\n",
              "          '<a target=\"_blank\" href=https://colab.research.google.com/notebooks/data_table.ipynb>data table notebook</a>'\n",
              "          + ' to learn more about interactive tables.';\n",
              "        element.innerHTML = '';\n",
              "        dataTable['output_type'] = 'display_data';\n",
              "        await google.colab.output.renderOutput(dataTable, element);\n",
              "        const docLink = document.createElement('div');\n",
              "        docLink.innerHTML = docLinkHtml;\n",
              "        element.appendChild(docLink);\n",
              "      }\n",
              "    </script>\n",
              "  </div>\n",
              "\n",
              "\n",
              "<div id=\"df-4aee6295-d23a-4116-b6cc-f5e712c3a85c\">\n",
              "  <button class=\"colab-df-quickchart\" onclick=\"quickchart('df-4aee6295-d23a-4116-b6cc-f5e712c3a85c')\"\n",
              "            title=\"Suggest charts\"\n",
              "            style=\"display:none;\">\n",
              "\n",
              "<svg xmlns=\"http://www.w3.org/2000/svg\" height=\"24px\"viewBox=\"0 0 24 24\"\n",
              "     width=\"24px\">\n",
              "    <g>\n",
              "        <path d=\"M19 3H5c-1.1 0-2 .9-2 2v14c0 1.1.9 2 2 2h14c1.1 0 2-.9 2-2V5c0-1.1-.9-2-2-2zM9 17H7v-7h2v7zm4 0h-2V7h2v10zm4 0h-2v-4h2v4z\"/>\n",
              "    </g>\n",
              "</svg>\n",
              "  </button>\n",
              "\n",
              "<style>\n",
              "  .colab-df-quickchart {\n",
              "      --bg-color: #E8F0FE;\n",
              "      --fill-color: #1967D2;\n",
              "      --hover-bg-color: #E2EBFA;\n",
              "      --hover-fill-color: #174EA6;\n",
              "      --disabled-fill-color: #AAA;\n",
              "      --disabled-bg-color: #DDD;\n",
              "  }\n",
              "\n",
              "  [theme=dark] .colab-df-quickchart {\n",
              "      --bg-color: #3B4455;\n",
              "      --fill-color: #D2E3FC;\n",
              "      --hover-bg-color: #434B5C;\n",
              "      --hover-fill-color: #FFFFFF;\n",
              "      --disabled-bg-color: #3B4455;\n",
              "      --disabled-fill-color: #666;\n",
              "  }\n",
              "\n",
              "  .colab-df-quickchart {\n",
              "    background-color: var(--bg-color);\n",
              "    border: none;\n",
              "    border-radius: 50%;\n",
              "    cursor: pointer;\n",
              "    display: none;\n",
              "    fill: var(--fill-color);\n",
              "    height: 32px;\n",
              "    padding: 0;\n",
              "    width: 32px;\n",
              "  }\n",
              "\n",
              "  .colab-df-quickchart:hover {\n",
              "    background-color: var(--hover-bg-color);\n",
              "    box-shadow: 0 1px 2px rgba(60, 64, 67, 0.3), 0 1px 3px 1px rgba(60, 64, 67, 0.15);\n",
              "    fill: var(--button-hover-fill-color);\n",
              "  }\n",
              "\n",
              "  .colab-df-quickchart-complete:disabled,\n",
              "  .colab-df-quickchart-complete:disabled:hover {\n",
              "    background-color: var(--disabled-bg-color);\n",
              "    fill: var(--disabled-fill-color);\n",
              "    box-shadow: none;\n",
              "  }\n",
              "\n",
              "  .colab-df-spinner {\n",
              "    border: 2px solid var(--fill-color);\n",
              "    border-color: transparent;\n",
              "    border-bottom-color: var(--fill-color);\n",
              "    animation:\n",
              "      spin 1s steps(1) infinite;\n",
              "  }\n",
              "\n",
              "  @keyframes spin {\n",
              "    0% {\n",
              "      border-color: transparent;\n",
              "      border-bottom-color: var(--fill-color);\n",
              "      border-left-color: var(--fill-color);\n",
              "    }\n",
              "    20% {\n",
              "      border-color: transparent;\n",
              "      border-left-color: var(--fill-color);\n",
              "      border-top-color: var(--fill-color);\n",
              "    }\n",
              "    30% {\n",
              "      border-color: transparent;\n",
              "      border-left-color: var(--fill-color);\n",
              "      border-top-color: var(--fill-color);\n",
              "      border-right-color: var(--fill-color);\n",
              "    }\n",
              "    40% {\n",
              "      border-color: transparent;\n",
              "      border-right-color: var(--fill-color);\n",
              "      border-top-color: var(--fill-color);\n",
              "    }\n",
              "    60% {\n",
              "      border-color: transparent;\n",
              "      border-right-color: var(--fill-color);\n",
              "    }\n",
              "    80% {\n",
              "      border-color: transparent;\n",
              "      border-right-color: var(--fill-color);\n",
              "      border-bottom-color: var(--fill-color);\n",
              "    }\n",
              "    90% {\n",
              "      border-color: transparent;\n",
              "      border-bottom-color: var(--fill-color);\n",
              "    }\n",
              "  }\n",
              "</style>\n",
              "\n",
              "  <script>\n",
              "    async function quickchart(key) {\n",
              "      const quickchartButtonEl =\n",
              "        document.querySelector('#' + key + ' button');\n",
              "      quickchartButtonEl.disabled = true;  // To prevent multiple clicks.\n",
              "      quickchartButtonEl.classList.add('colab-df-spinner');\n",
              "      try {\n",
              "        const charts = await google.colab.kernel.invokeFunction(\n",
              "            'suggestCharts', [key], {});\n",
              "      } catch (error) {\n",
              "        console.error('Error during call to suggestCharts:', error);\n",
              "      }\n",
              "      quickchartButtonEl.classList.remove('colab-df-spinner');\n",
              "      quickchartButtonEl.classList.add('colab-df-quickchart-complete');\n",
              "    }\n",
              "    (() => {\n",
              "      let quickchartButtonEl =\n",
              "        document.querySelector('#df-4aee6295-d23a-4116-b6cc-f5e712c3a85c button');\n",
              "      quickchartButtonEl.style.display =\n",
              "        google.colab.kernel.accessAllowed ? 'block' : 'none';\n",
              "    })();\n",
              "  </script>\n",
              "</div>\n",
              "\n",
              "    </div>\n",
              "  </div>\n"
            ],
            "application/vnd.google.colaboratory.intrinsic+json": {
              "type": "dataframe",
              "variable_name": "x_train"
            }
          },
          "metadata": {},
          "execution_count": 119
        }
      ]
    },
    {
      "cell_type": "markdown",
      "source": [
        "We used Binary encoding, as it is RAM efficient but have lesser number of attributes"
      ],
      "metadata": {
        "id": "A4Qu2tvDplw-"
      }
    },
    {
      "cell_type": "code",
      "source": [
        "!pip install category_encoders"
      ],
      "metadata": {
        "colab": {
          "base_uri": "https://localhost:8080/"
        },
        "id": "KRkYpSA5-bED",
        "outputId": "96f97a03-bfc3-492e-c1d3-43976c54c882"
      },
      "execution_count": null,
      "outputs": [
        {
          "output_type": "stream",
          "name": "stdout",
          "text": [
            "Requirement already satisfied: category_encoders in /usr/local/lib/python3.11/dist-packages (2.8.1)\n",
            "Requirement already satisfied: numpy>=1.14.0 in /usr/local/lib/python3.11/dist-packages (from category_encoders) (2.0.2)\n",
            "Requirement already satisfied: pandas>=1.0.5 in /usr/local/lib/python3.11/dist-packages (from category_encoders) (2.2.2)\n",
            "Requirement already satisfied: patsy>=0.5.1 in /usr/local/lib/python3.11/dist-packages (from category_encoders) (1.0.1)\n",
            "Requirement already satisfied: scikit-learn>=1.6.0 in /usr/local/lib/python3.11/dist-packages (from category_encoders) (1.6.1)\n",
            "Requirement already satisfied: scipy>=1.0.0 in /usr/local/lib/python3.11/dist-packages (from category_encoders) (1.14.1)\n",
            "Requirement already satisfied: statsmodels>=0.9.0 in /usr/local/lib/python3.11/dist-packages (from category_encoders) (0.14.4)\n",
            "Requirement already satisfied: python-dateutil>=2.8.2 in /usr/local/lib/python3.11/dist-packages (from pandas>=1.0.5->category_encoders) (2.8.2)\n",
            "Requirement already satisfied: pytz>=2020.1 in /usr/local/lib/python3.11/dist-packages (from pandas>=1.0.5->category_encoders) (2025.2)\n",
            "Requirement already satisfied: tzdata>=2022.7 in /usr/local/lib/python3.11/dist-packages (from pandas>=1.0.5->category_encoders) (2025.2)\n",
            "Requirement already satisfied: joblib>=1.2.0 in /usr/local/lib/python3.11/dist-packages (from scikit-learn>=1.6.0->category_encoders) (1.4.2)\n",
            "Requirement already satisfied: threadpoolctl>=3.1.0 in /usr/local/lib/python3.11/dist-packages (from scikit-learn>=1.6.0->category_encoders) (3.6.0)\n",
            "Requirement already satisfied: packaging>=21.3 in /usr/local/lib/python3.11/dist-packages (from statsmodels>=0.9.0->category_encoders) (24.2)\n",
            "Requirement already satisfied: six>=1.5 in /usr/local/lib/python3.11/dist-packages (from python-dateutil>=2.8.2->pandas>=1.0.5->category_encoders) (1.17.0)\n"
          ]
        }
      ]
    },
    {
      "cell_type": "code",
      "source": [
        "import category_encoders as ce"
      ],
      "metadata": {
        "id": "NW8bSOCt9WVr"
      },
      "execution_count": null,
      "outputs": []
    },
    {
      "cell_type": "code",
      "source": [
        "# Initialize the Binary Encoder\n",
        "encoder = ce.BinaryEncoder(cols=['proto', 'service', 'state'])\n",
        "\n",
        "# Fit and transform the data\n",
        "x_train_encoded = encoder.fit_transform(x_train)\n",
        "\n",
        "# Now x_train_encoded contains the binary encoded columns\n",
        "print(x_train_encoded.head())"
      ],
      "metadata": {
        "colab": {
          "base_uri": "https://localhost:8080/"
        },
        "id": "vteH_xi0-DAl",
        "outputId": "9c8dcf47-13fb-4097-f532-5dd1f2d18d7e"
      },
      "execution_count": null,
      "outputs": [
        {
          "output_type": "stream",
          "name": "stdout",
          "text": [
            "   proto_0  proto_1  proto_2  proto_3  proto_4  proto_5  proto_6  proto_7  \\\n",
            "0        0        0        0        0        0        0        0        1   \n",
            "1        0        0        0        0        0        0        0        1   \n",
            "2        0        0        0        0        0        0        1        0   \n",
            "3        0        0        0        0        0        0        1        0   \n",
            "4        0        0        0        0        0        0        1        0   \n",
            "\n",
            "   state_0  state_1  ...  sload_log1p  dload_log1p  spkts_log1p  stcpb_log1p  \\\n",
            "0        0        0  ...    -1.383776    -1.879995    -0.704801    -1.190007   \n",
            "1        0        0  ...     1.614925    -1.879995    -1.080734    -1.190007   \n",
            "2        0        0  ...     0.153252     0.988351     0.843701     0.741629   \n",
            "3        0        0  ...    -1.071111    -0.033644     1.032630     0.895318   \n",
            "4        0        0  ...    -0.090531     0.478104     0.195816     0.787264   \n",
            "\n",
            "   dtcpb_log1p  smeansz_log1p  dmeansz_log1p  sjit_log1p  djit_log1p  \\\n",
            "0    -1.189697      -1.137341      -1.850553    0.204270   -0.899657   \n",
            "1    -1.189697       0.565988      -1.850553   -0.995343   -0.899657   \n",
            "2     0.888925      -0.582651       0.881301   -0.995343    0.170283   \n",
            "3     0.770420      -0.793357      -0.012242    1.251851    0.515730   \n",
            "4     0.900555       0.059601       0.106012    0.337745   -0.495378   \n",
            "\n",
            "   network_bytes_log1p  \n",
            "0            -1.229918  \n",
            "1            -1.062092  \n",
            "2             0.894089  \n",
            "3             0.318009  \n",
            "4             0.001507  \n",
            "\n",
            "[5 rows x 50 columns]\n"
          ]
        }
      ]
    },
    {
      "cell_type": "code",
      "source": [
        "file_path = '/content/drive/My Drive/'"
      ],
      "metadata": {
        "id": "fnW8Qh_e-kzW"
      },
      "execution_count": null,
      "outputs": []
    },
    {
      "cell_type": "code",
      "source": [
        "pickle.dump(scaler, open(file_path+'scaler.pkl', 'wb'))  # Standard scaler\n",
        "pickle.dump(saved_dict, open(file_path+'saved_dict.pkl', 'wb'))  # Dictionary with important parameters\n",
        "pickle.dump(mode_dict, open(file_path+'mode_dict.pkl', 'wb'))  #  Dictionary with most frequent values of columns"
      ],
      "metadata": {
        "id": "EBoOgWyFqIvu"
      },
      "execution_count": null,
      "outputs": []
    },
    {
      "cell_type": "markdown",
      "source": [
        "Loading the Binary Encoder Later\n",
        "When you want to use the saved binary encoder to transform new data (like your test set), you can load it back into your script as follows:\n",
        "\n",
        "python\n"
      ],
      "metadata": {
        "id": "oEzzbi2hrK6j"
      }
    },
    {
      "cell_type": "code",
      "source": [
        "# #Load the binary encoder from the file\n",
        "# loaded_encoder = pickle.load(open(file_path + 'binary_encoder.pkl', 'rb'))\n",
        "\n",
        "# # Transform the test data using the loaded encoder\n",
        "# x_test_encoded = loaded_encoder.transform(x_test)\n",
        "\n",
        "# # Now x_test_encoded contains the binary encoded columns for the test set\n",
        "# print(x_test_encoded.head())"
      ],
      "metadata": {
        "id": "C9_gISyzrH46"
      },
      "execution_count": null,
      "outputs": []
    },
    {
      "cell_type": "code",
      "source": [
        "\n",
        "x_test.shape"
      ],
      "metadata": {
        "colab": {
          "base_uri": "https://localhost:8080/"
        },
        "id": "0l8t6d8krXdt",
        "outputId": "6e8da1e8-b20d-4600-cba3-57b234a14e85"
      },
      "execution_count": null,
      "outputs": [
        {
          "output_type": "execute_result",
          "data": {
            "text/plain": [
              "(762015, 48)"
            ]
          },
          "metadata": {},
          "execution_count": 126
        }
      ]
    },
    {
      "cell_type": "code",
      "source": [
        "\n",
        "# Resetting index of test data\n",
        "x_test.reset_index(drop=True, inplace=True)"
      ],
      "metadata": {
        "id": "uEu07mO2rpK5"
      },
      "execution_count": null,
      "outputs": []
    },
    {
      "cell_type": "code",
      "source": [
        "x_test.shape"
      ],
      "metadata": {
        "colab": {
          "base_uri": "https://localhost:8080/"
        },
        "id": "HoBDBEgSrrEx",
        "outputId": "c47af77e-1c4a-439c-acf2-660efdc26956"
      },
      "execution_count": null,
      "outputs": [
        {
          "output_type": "execute_result",
          "data": {
            "text/plain": [
              "(762015, 48)"
            ]
          },
          "metadata": {},
          "execution_count": 128
        }
      ]
    },
    {
      "cell_type": "code",
      "source": [
        "x_test.columns"
      ],
      "metadata": {
        "colab": {
          "base_uri": "https://localhost:8080/"
        },
        "id": "GyhGxslMrs1M",
        "outputId": "8c3b488b-03f2-46a8-9e4a-2f433d72fd4e"
      },
      "execution_count": null,
      "outputs": [
        {
          "output_type": "execute_result",
          "data": {
            "text/plain": [
              "Index(['srcip', 'sport', 'dstip', 'dsport', 'proto', 'state', 'dur', 'sbytes',\n",
              "       'dbytes', 'sttl', 'dttl', 'sloss', 'dloss', 'service', 'sload', 'dload',\n",
              "       'spkts', 'dpkts', 'swin', 'dwin', 'stcpb', 'dtcpb', 'smeansz',\n",
              "       'dmeansz', 'trans_depth', 'res_bdy_len', 'sjit', 'djit', 'stime',\n",
              "       'ltime', 'sintpkt', 'dintpkt', 'tcprtt', 'synack', 'ackdat',\n",
              "       'is_sm_ips_ports', 'ct_state_ttl', 'ct_flw_http_mthd', 'is_ftp_login',\n",
              "       'ct_ftp_cmd', 'ct_srv_src', 'ct_srv_dst', 'ct_dst_ltm', 'ct_src_ltm',\n",
              "       'ct_src_dport_ltm', 'ct_dst_sport_ltm', 'ct_dst_src_ltm', 'attack_cat'],\n",
              "      dtype='object')"
            ]
          },
          "metadata": {},
          "execution_count": 129
        }
      ]
    },
    {
      "cell_type": "code",
      "source": [
        "def clean_data(data):\n",
        "    '''\n",
        "    Cleans given raw data. Performs various cleaning, removes Null and wrong values.\n",
        "    Check for columns datatype and fix them.\n",
        "    '''\n",
        "    numerical_col = data.select_dtypes(include=np.number).columns  # All the numerical columns list\n",
        "    categorical_col = data.select_dtypes(exclude=np.number).columns  # All the categorical columns list\n",
        "\n",
        "    # Cleaning the data\n",
        "    for col in data.columns:\n",
        "        val = mode_dict[col]  # Mode value of the column in train data\n",
        "        data[col] = data[col].fillna(value=val)\n",
        "        data[col] = data[col].replace(' ', value=val)\n",
        "        data[col] = data[col].apply(lambda x:\"None\" if x==\"-\" else x)\n",
        "\n",
        "        # Fixing binary columns\n",
        "        if col in saved_dict['binary_col']:\n",
        "            data[col] = np.where(data[col]>1, val, data[col])\n",
        "\n",
        "    # Fixing datatype of columns\n",
        "    bad_dtypes = list(set(categorical_col) - set(saved_dict['cat_col']))\n",
        "    for bad_col in bad_dtypes:\n",
        "        data[col] = data[col].astype(float)\n",
        "\n",
        "    return data"
      ],
      "metadata": {
        "id": "KVv4twTJrxKg"
      },
      "execution_count": null,
      "outputs": []
    },
    {
      "cell_type": "code",
      "source": [
        "def apply_log1p(data):\n",
        "    '''\n",
        "    Performs FE on the data. Apply log1p on the specified columns create new column and remove those original columns.\n",
        "    '''\n",
        "    for col in saved_dict['log1p_col']:\n",
        "        new_col = col + '_log1p'  # New col name\n",
        "        data[new_col] = data[col].apply(np.log1p)  # Creating new column on transformed data\n",
        "        data.drop(col, axis=1, inplace=True)  # Removing old columns\n",
        "    return data"
      ],
      "metadata": {
        "id": "1Q3kS0gEzXWJ"
      },
      "execution_count": null,
      "outputs": []
    },
    {
      "cell_type": "code",
      "source": [
        "def standardize(data):\n",
        "    '''\n",
        "    Stanardize the given data. Performs mean centering and varience scaling.\n",
        "    Using stanardscaler object trained on train data.\n",
        "    '''\n",
        "    data[saved_dict['num_col']] = scaler.transform(data[saved_dict['num_col']])\n",
        "    return data"
      ],
      "metadata": {
        "id": "vGTrLmozzaUL"
      },
      "execution_count": null,
      "outputs": []
    },
    {
      "cell_type": "code",
      "source": [
        "len(x_train_encoded.columns)"
      ],
      "metadata": {
        "colab": {
          "base_uri": "https://localhost:8080/"
        },
        "id": "7UJHyoCKO3Bm",
        "outputId": "0d0b8ea0-bed4-4cd8-d09e-c28b9883d579"
      },
      "execution_count": null,
      "outputs": [
        {
          "output_type": "execute_result",
          "data": {
            "text/plain": [
              "50"
            ]
          },
          "metadata": {},
          "execution_count": 133
        }
      ]
    },
    {
      "cell_type": "code",
      "source": [
        "len(saved_dict['columns'])"
      ],
      "metadata": {
        "colab": {
          "base_uri": "https://localhost:8080/"
        },
        "id": "HEUKA5K-PM6P",
        "outputId": "354e045b-41c5-44d1-af09-d11375bfb28a"
      },
      "execution_count": null,
      "outputs": [
        {
          "output_type": "execute_result",
          "data": {
            "text/plain": [
              "48"
            ]
          },
          "metadata": {},
          "execution_count": 134
        }
      ]
    },
    {
      "cell_type": "code",
      "source": [
        "# Parametrs\n",
        "saved_dict = pickle.load(open(file_path+'saved_dict.pkl', 'rb'))\n",
        "# Mode value of all the columns\n",
        "mode_dict = pickle.load(open(file_path+'mode_dict.pkl', 'rb'))\n",
        "# Stanardscaler object\n",
        "scaler = pickle.load(open(file_path+'scaler.pkl', 'rb'))"
      ],
      "metadata": {
        "id": "ikqG-2i5zc0i"
      },
      "execution_count": null,
      "outputs": []
    },
    {
      "cell_type": "code",
      "source": [
        "len(saved_dict['columns'])"
      ],
      "metadata": {
        "colab": {
          "base_uri": "https://localhost:8080/"
        },
        "id": "t3umRWMCPj29",
        "outputId": "7c39cec9-7ff4-4a9a-ffe4-ad965accdcf1"
      },
      "execution_count": null,
      "outputs": [
        {
          "output_type": "execute_result",
          "data": {
            "text/plain": [
              "48"
            ]
          },
          "metadata": {},
          "execution_count": 137
        }
      ]
    },
    {
      "cell_type": "code",
      "source": [
        "pickle.dump(encoder, open(file_path + 'binary_encoder.pkl', 'wb'))"
      ],
      "metadata": {
        "id": "PxwzbnDezlhG"
      },
      "execution_count": null,
      "outputs": []
    },
    {
      "cell_type": "code",
      "source": [
        "x_test.shape"
      ],
      "metadata": {
        "colab": {
          "base_uri": "https://localhost:8080/"
        },
        "id": "i4uOzm23zp1M",
        "outputId": "a445ade7-4a85-43da-cbe9-a244363eab19"
      },
      "execution_count": null,
      "outputs": [
        {
          "output_type": "execute_result",
          "data": {
            "text/plain": [
              "(762015, 48)"
            ]
          },
          "metadata": {},
          "execution_count": 139
        }
      ]
    },
    {
      "cell_type": "code",
      "source": [
        "# Resetting index of test data\n",
        "x_test.reset_index(drop=True, inplace=True)"
      ],
      "metadata": {
        "id": "r6dOGpg8ztHs"
      },
      "execution_count": null,
      "outputs": []
    },
    {
      "cell_type": "code",
      "source": [
        "x_test.shape"
      ],
      "metadata": {
        "colab": {
          "base_uri": "https://localhost:8080/"
        },
        "id": "GiXOXx0dzvwK",
        "outputId": "67071f04-495c-4c94-90cd-cff5e887e8ca"
      },
      "execution_count": null,
      "outputs": [
        {
          "output_type": "execute_result",
          "data": {
            "text/plain": [
              "(762015, 48)"
            ]
          },
          "metadata": {},
          "execution_count": 141
        }
      ]
    },
    {
      "cell_type": "code",
      "source": [
        "x_test.columns"
      ],
      "metadata": {
        "colab": {
          "base_uri": "https://localhost:8080/"
        },
        "id": "g3Ovl7JGzyMt",
        "outputId": "8cb53d62-4dd9-454e-fb94-f1d4eb0d5b16"
      },
      "execution_count": null,
      "outputs": [
        {
          "output_type": "execute_result",
          "data": {
            "text/plain": [
              "Index(['srcip', 'sport', 'dstip', 'dsport', 'proto', 'state', 'dur', 'sbytes',\n",
              "       'dbytes', 'sttl', 'dttl', 'sloss', 'dloss', 'service', 'sload', 'dload',\n",
              "       'spkts', 'dpkts', 'swin', 'dwin', 'stcpb', 'dtcpb', 'smeansz',\n",
              "       'dmeansz', 'trans_depth', 'res_bdy_len', 'sjit', 'djit', 'stime',\n",
              "       'ltime', 'sintpkt', 'dintpkt', 'tcprtt', 'synack', 'ackdat',\n",
              "       'is_sm_ips_ports', 'ct_state_ttl', 'ct_flw_http_mthd', 'is_ftp_login',\n",
              "       'ct_ftp_cmd', 'ct_srv_src', 'ct_srv_dst', 'ct_dst_ltm', 'ct_src_ltm',\n",
              "       'ct_src_dport_ltm', 'ct_dst_sport_ltm', 'ct_dst_src_ltm', 'attack_cat'],\n",
              "      dtype='object')"
            ]
          },
          "metadata": {},
          "execution_count": 142
        }
      ]
    },
    {
      "cell_type": "code",
      "source": [
        "x_test.columns = saved_dict['columns']"
      ],
      "metadata": {
        "id": "k9JHRfEZz1jT"
      },
      "execution_count": null,
      "outputs": []
    },
    {
      "cell_type": "code",
      "source": [
        "# Creating new Feature\n",
        "x_test['network_bytes'] = x_test['dbytes'] + x_test['sbytes']"
      ],
      "metadata": {
        "id": "xD3pU3akz30V"
      },
      "execution_count": null,
      "outputs": []
    },
    {
      "cell_type": "code",
      "source": [
        "# Droping all the unwanted columns\n",
        "dropable_col = saved_dict['to_drop'] + saved_dict['corr_col']\n",
        "x_test.drop(columns=dropable_col, inplace=True)"
      ],
      "metadata": {
        "id": "OSpQit-7z52f"
      },
      "execution_count": null,
      "outputs": []
    },
    {
      "cell_type": "code",
      "source": [
        "x_test.shape"
      ],
      "metadata": {
        "colab": {
          "base_uri": "https://localhost:8080/"
        },
        "id": "uKt3zhIUz8Sz",
        "outputId": "4806e1b5-cca4-4a6f-de35-3dbe2b2211cd"
      },
      "execution_count": null,
      "outputs": [
        {
          "output_type": "execute_result",
          "data": {
            "text/plain": [
              "(762015, 36)"
            ]
          },
          "metadata": {},
          "execution_count": 146
        }
      ]
    },
    {
      "cell_type": "code",
      "source": [
        "# Cleaning data using clean_data()\n",
        "x_test = clean_data(x_test)"
      ],
      "metadata": {
        "id": "enakTyXdz-LF"
      },
      "execution_count": null,
      "outputs": []
    },
    {
      "cell_type": "code",
      "source": [
        "x_test.shape"
      ],
      "metadata": {
        "colab": {
          "base_uri": "https://localhost:8080/"
        },
        "id": "I2Zo7_yW0Aeu",
        "outputId": "f8e6af45-a40e-408a-926b-68f1519d908f"
      },
      "execution_count": null,
      "outputs": [
        {
          "output_type": "execute_result",
          "data": {
            "text/plain": [
              "(762015, 36)"
            ]
          },
          "metadata": {},
          "execution_count": 148
        }
      ]
    },
    {
      "cell_type": "code",
      "source": [
        "# FE: applying log1p using apply_log1p()\n",
        "x_test = apply_log1p(x_test)"
      ],
      "metadata": {
        "id": "Rmhqe4IM0FTs"
      },
      "execution_count": null,
      "outputs": []
    },
    {
      "cell_type": "code",
      "source": [
        "x_test.shape"
      ],
      "metadata": {
        "colab": {
          "base_uri": "https://localhost:8080/"
        },
        "id": "D5azt7190HhB",
        "outputId": "c5b2f949-eb68-4a80-e0bf-8feac4bb6dfc"
      },
      "execution_count": null,
      "outputs": [
        {
          "output_type": "execute_result",
          "data": {
            "text/plain": [
              "(762015, 36)"
            ]
          },
          "metadata": {},
          "execution_count": 150
        }
      ]
    },
    {
      "cell_type": "code",
      "source": [
        "x_test.columns"
      ],
      "metadata": {
        "colab": {
          "base_uri": "https://localhost:8080/"
        },
        "id": "oIJRdyFz0KPG",
        "outputId": "e12604e4-e747-4685-e266-358007cca943"
      },
      "execution_count": null,
      "outputs": [
        {
          "output_type": "execute_result",
          "data": {
            "text/plain": [
              "Index(['proto', 'state', 'sttl', 'dttl', 'service', 'swin', 'trans_depth',\n",
              "       'res_bdy_len', 'stime', 'sintpkt', 'dintpkt', 'tcprtt', 'synack',\n",
              "       'ackdat', 'is_sm_ips_ports', 'ct_state_ttl', 'ct_flw_http_mthd',\n",
              "       'is_ftp_login', 'ct_ftp_cmd', 'ct_srv_src', 'ct_dst_ltm', 'ct_src_ltm',\n",
              "       'ct_dst_sport_ltm', 'dur_log1p', 'sbytes_log1p', 'dbytes_log1p',\n",
              "       'sload_log1p', 'dload_log1p', 'spkts_log1p', 'stcpb_log1p',\n",
              "       'dtcpb_log1p', 'smeansz_log1p', 'dmeansz_log1p', 'sjit_log1p',\n",
              "       'djit_log1p', 'network_bytes_log1p'],\n",
              "      dtype='object')"
            ]
          },
          "metadata": {},
          "execution_count": 151
        }
      ]
    },
    {
      "cell_type": "code",
      "source": [
        "# Standardscaling using stanardize()\n",
        "x_test = standardize(x_test)"
      ],
      "metadata": {
        "id": "aSNOZBo_0MHN"
      },
      "execution_count": null,
      "outputs": []
    },
    {
      "cell_type": "code",
      "source": [
        "x_test.head()"
      ],
      "metadata": {
        "colab": {
          "base_uri": "https://localhost:8080/",
          "height": 255
        },
        "id": "M3veel7x0Ol6",
        "outputId": "b10a3520-6e7b-42d8-d4fa-879c508a46a6"
      },
      "execution_count": null,
      "outputs": [
        {
          "output_type": "execute_result",
          "data": {
            "text/plain": [
              "  proto state      sttl      dttl service      swin  trans_depth  res_bdy_len  \\\n",
              "0   udp   CON -0.426051 -0.041365     dns -1.196045    -0.225343    -0.089113   \n",
              "1   udp   CON -0.426051 -0.041365     dns -1.196045    -0.225343    -0.089113   \n",
              "2   udp   INT -0.037542 -0.717760     dns -1.196045    -0.225343    -0.089113   \n",
              "3   tcp   FIN -0.426051 -0.041365    None  0.836096    -0.225343    -0.089113   \n",
              "4   udp   CON -0.426051 -0.041365     dns -1.196045    -0.225343    -0.089113   \n",
              "\n",
              "      stime   sintpkt  ...  sload_log1p  dload_log1p  spkts_log1p  \\\n",
              "0 -1.148407 -0.069615  ...    -0.121716     0.482924    -1.080734   \n",
              "1 -1.163715 -0.069617  ...    -0.112689     0.487911    -1.080734   \n",
              "2  0.855736 -0.069616  ...     1.577442    -1.879995    -1.080734   \n",
              "3 -1.157963 -0.069518  ...     0.619603     0.775428     0.277671   \n",
              "4  0.864749 -0.069616  ...    -0.150173     0.467203    -1.080734   \n",
              "\n",
              "   stcpb_log1p  dtcpb_log1p  smeansz_log1p  dmeansz_log1p  sjit_log1p  \\\n",
              "0    -1.190007    -1.189697      -0.374605       0.096502   -0.995343   \n",
              "1    -1.190007    -1.189697      -0.374605       0.096502   -0.995343   \n",
              "2    -1.190007    -1.189697       0.565988      -1.850553   -0.995343   \n",
              "3     0.898135     0.898496       1.366104       0.278308   -0.163891   \n",
              "4    -1.190007    -1.189697      -0.374605       0.096502   -0.995343   \n",
              "\n",
              "   djit_log1p  network_bytes_log1p  \n",
              "0   -0.899657            -0.974789  \n",
              "1   -0.899657            -0.974789  \n",
              "2   -0.899657            -1.062092  \n",
              "3   -0.794201             0.298473  \n",
              "4   -0.899657            -0.974789  \n",
              "\n",
              "[5 rows x 36 columns]"
            ],
            "text/html": [
              "\n",
              "  <div id=\"df-ad098fac-f7f0-4870-9c9c-e2a9c40098d6\" class=\"colab-df-container\">\n",
              "    <div>\n",
              "<style scoped>\n",
              "    .dataframe tbody tr th:only-of-type {\n",
              "        vertical-align: middle;\n",
              "    }\n",
              "\n",
              "    .dataframe tbody tr th {\n",
              "        vertical-align: top;\n",
              "    }\n",
              "\n",
              "    .dataframe thead th {\n",
              "        text-align: right;\n",
              "    }\n",
              "</style>\n",
              "<table border=\"1\" class=\"dataframe\">\n",
              "  <thead>\n",
              "    <tr style=\"text-align: right;\">\n",
              "      <th></th>\n",
              "      <th>proto</th>\n",
              "      <th>state</th>\n",
              "      <th>sttl</th>\n",
              "      <th>dttl</th>\n",
              "      <th>service</th>\n",
              "      <th>swin</th>\n",
              "      <th>trans_depth</th>\n",
              "      <th>res_bdy_len</th>\n",
              "      <th>stime</th>\n",
              "      <th>sintpkt</th>\n",
              "      <th>...</th>\n",
              "      <th>sload_log1p</th>\n",
              "      <th>dload_log1p</th>\n",
              "      <th>spkts_log1p</th>\n",
              "      <th>stcpb_log1p</th>\n",
              "      <th>dtcpb_log1p</th>\n",
              "      <th>smeansz_log1p</th>\n",
              "      <th>dmeansz_log1p</th>\n",
              "      <th>sjit_log1p</th>\n",
              "      <th>djit_log1p</th>\n",
              "      <th>network_bytes_log1p</th>\n",
              "    </tr>\n",
              "  </thead>\n",
              "  <tbody>\n",
              "    <tr>\n",
              "      <th>0</th>\n",
              "      <td>udp</td>\n",
              "      <td>CON</td>\n",
              "      <td>-0.426051</td>\n",
              "      <td>-0.041365</td>\n",
              "      <td>dns</td>\n",
              "      <td>-1.196045</td>\n",
              "      <td>-0.225343</td>\n",
              "      <td>-0.089113</td>\n",
              "      <td>-1.148407</td>\n",
              "      <td>-0.069615</td>\n",
              "      <td>...</td>\n",
              "      <td>-0.121716</td>\n",
              "      <td>0.482924</td>\n",
              "      <td>-1.080734</td>\n",
              "      <td>-1.190007</td>\n",
              "      <td>-1.189697</td>\n",
              "      <td>-0.374605</td>\n",
              "      <td>0.096502</td>\n",
              "      <td>-0.995343</td>\n",
              "      <td>-0.899657</td>\n",
              "      <td>-0.974789</td>\n",
              "    </tr>\n",
              "    <tr>\n",
              "      <th>1</th>\n",
              "      <td>udp</td>\n",
              "      <td>CON</td>\n",
              "      <td>-0.426051</td>\n",
              "      <td>-0.041365</td>\n",
              "      <td>dns</td>\n",
              "      <td>-1.196045</td>\n",
              "      <td>-0.225343</td>\n",
              "      <td>-0.089113</td>\n",
              "      <td>-1.163715</td>\n",
              "      <td>-0.069617</td>\n",
              "      <td>...</td>\n",
              "      <td>-0.112689</td>\n",
              "      <td>0.487911</td>\n",
              "      <td>-1.080734</td>\n",
              "      <td>-1.190007</td>\n",
              "      <td>-1.189697</td>\n",
              "      <td>-0.374605</td>\n",
              "      <td>0.096502</td>\n",
              "      <td>-0.995343</td>\n",
              "      <td>-0.899657</td>\n",
              "      <td>-0.974789</td>\n",
              "    </tr>\n",
              "    <tr>\n",
              "      <th>2</th>\n",
              "      <td>udp</td>\n",
              "      <td>INT</td>\n",
              "      <td>-0.037542</td>\n",
              "      <td>-0.717760</td>\n",
              "      <td>dns</td>\n",
              "      <td>-1.196045</td>\n",
              "      <td>-0.225343</td>\n",
              "      <td>-0.089113</td>\n",
              "      <td>0.855736</td>\n",
              "      <td>-0.069616</td>\n",
              "      <td>...</td>\n",
              "      <td>1.577442</td>\n",
              "      <td>-1.879995</td>\n",
              "      <td>-1.080734</td>\n",
              "      <td>-1.190007</td>\n",
              "      <td>-1.189697</td>\n",
              "      <td>0.565988</td>\n",
              "      <td>-1.850553</td>\n",
              "      <td>-0.995343</td>\n",
              "      <td>-0.899657</td>\n",
              "      <td>-1.062092</td>\n",
              "    </tr>\n",
              "    <tr>\n",
              "      <th>3</th>\n",
              "      <td>tcp</td>\n",
              "      <td>FIN</td>\n",
              "      <td>-0.426051</td>\n",
              "      <td>-0.041365</td>\n",
              "      <td>None</td>\n",
              "      <td>0.836096</td>\n",
              "      <td>-0.225343</td>\n",
              "      <td>-0.089113</td>\n",
              "      <td>-1.157963</td>\n",
              "      <td>-0.069518</td>\n",
              "      <td>...</td>\n",
              "      <td>0.619603</td>\n",
              "      <td>0.775428</td>\n",
              "      <td>0.277671</td>\n",
              "      <td>0.898135</td>\n",
              "      <td>0.898496</td>\n",
              "      <td>1.366104</td>\n",
              "      <td>0.278308</td>\n",
              "      <td>-0.163891</td>\n",
              "      <td>-0.794201</td>\n",
              "      <td>0.298473</td>\n",
              "    </tr>\n",
              "    <tr>\n",
              "      <th>4</th>\n",
              "      <td>udp</td>\n",
              "      <td>CON</td>\n",
              "      <td>-0.426051</td>\n",
              "      <td>-0.041365</td>\n",
              "      <td>dns</td>\n",
              "      <td>-1.196045</td>\n",
              "      <td>-0.225343</td>\n",
              "      <td>-0.089113</td>\n",
              "      <td>0.864749</td>\n",
              "      <td>-0.069616</td>\n",
              "      <td>...</td>\n",
              "      <td>-0.150173</td>\n",
              "      <td>0.467203</td>\n",
              "      <td>-1.080734</td>\n",
              "      <td>-1.190007</td>\n",
              "      <td>-1.189697</td>\n",
              "      <td>-0.374605</td>\n",
              "      <td>0.096502</td>\n",
              "      <td>-0.995343</td>\n",
              "      <td>-0.899657</td>\n",
              "      <td>-0.974789</td>\n",
              "    </tr>\n",
              "  </tbody>\n",
              "</table>\n",
              "<p>5 rows × 36 columns</p>\n",
              "</div>\n",
              "    <div class=\"colab-df-buttons\">\n",
              "\n",
              "  <div class=\"colab-df-container\">\n",
              "    <button class=\"colab-df-convert\" onclick=\"convertToInteractive('df-ad098fac-f7f0-4870-9c9c-e2a9c40098d6')\"\n",
              "            title=\"Convert this dataframe to an interactive table.\"\n",
              "            style=\"display:none;\">\n",
              "\n",
              "  <svg xmlns=\"http://www.w3.org/2000/svg\" height=\"24px\" viewBox=\"0 -960 960 960\">\n",
              "    <path d=\"M120-120v-720h720v720H120Zm60-500h600v-160H180v160Zm220 220h160v-160H400v160Zm0 220h160v-160H400v160ZM180-400h160v-160H180v160Zm440 0h160v-160H620v160ZM180-180h160v-160H180v160Zm440 0h160v-160H620v160Z\"/>\n",
              "  </svg>\n",
              "    </button>\n",
              "\n",
              "  <style>\n",
              "    .colab-df-container {\n",
              "      display:flex;\n",
              "      gap: 12px;\n",
              "    }\n",
              "\n",
              "    .colab-df-convert {\n",
              "      background-color: #E8F0FE;\n",
              "      border: none;\n",
              "      border-radius: 50%;\n",
              "      cursor: pointer;\n",
              "      display: none;\n",
              "      fill: #1967D2;\n",
              "      height: 32px;\n",
              "      padding: 0 0 0 0;\n",
              "      width: 32px;\n",
              "    }\n",
              "\n",
              "    .colab-df-convert:hover {\n",
              "      background-color: #E2EBFA;\n",
              "      box-shadow: 0px 1px 2px rgba(60, 64, 67, 0.3), 0px 1px 3px 1px rgba(60, 64, 67, 0.15);\n",
              "      fill: #174EA6;\n",
              "    }\n",
              "\n",
              "    .colab-df-buttons div {\n",
              "      margin-bottom: 4px;\n",
              "    }\n",
              "\n",
              "    [theme=dark] .colab-df-convert {\n",
              "      background-color: #3B4455;\n",
              "      fill: #D2E3FC;\n",
              "    }\n",
              "\n",
              "    [theme=dark] .colab-df-convert:hover {\n",
              "      background-color: #434B5C;\n",
              "      box-shadow: 0px 1px 3px 1px rgba(0, 0, 0, 0.15);\n",
              "      filter: drop-shadow(0px 1px 2px rgba(0, 0, 0, 0.3));\n",
              "      fill: #FFFFFF;\n",
              "    }\n",
              "  </style>\n",
              "\n",
              "    <script>\n",
              "      const buttonEl =\n",
              "        document.querySelector('#df-ad098fac-f7f0-4870-9c9c-e2a9c40098d6 button.colab-df-convert');\n",
              "      buttonEl.style.display =\n",
              "        google.colab.kernel.accessAllowed ? 'block' : 'none';\n",
              "\n",
              "      async function convertToInteractive(key) {\n",
              "        const element = document.querySelector('#df-ad098fac-f7f0-4870-9c9c-e2a9c40098d6');\n",
              "        const dataTable =\n",
              "          await google.colab.kernel.invokeFunction('convertToInteractive',\n",
              "                                                    [key], {});\n",
              "        if (!dataTable) return;\n",
              "\n",
              "        const docLinkHtml = 'Like what you see? Visit the ' +\n",
              "          '<a target=\"_blank\" href=https://colab.research.google.com/notebooks/data_table.ipynb>data table notebook</a>'\n",
              "          + ' to learn more about interactive tables.';\n",
              "        element.innerHTML = '';\n",
              "        dataTable['output_type'] = 'display_data';\n",
              "        await google.colab.output.renderOutput(dataTable, element);\n",
              "        const docLink = document.createElement('div');\n",
              "        docLink.innerHTML = docLinkHtml;\n",
              "        element.appendChild(docLink);\n",
              "      }\n",
              "    </script>\n",
              "  </div>\n",
              "\n",
              "\n",
              "<div id=\"df-3edc1bef-b3a2-4da9-be4f-6de95311d7e8\">\n",
              "  <button class=\"colab-df-quickchart\" onclick=\"quickchart('df-3edc1bef-b3a2-4da9-be4f-6de95311d7e8')\"\n",
              "            title=\"Suggest charts\"\n",
              "            style=\"display:none;\">\n",
              "\n",
              "<svg xmlns=\"http://www.w3.org/2000/svg\" height=\"24px\"viewBox=\"0 0 24 24\"\n",
              "     width=\"24px\">\n",
              "    <g>\n",
              "        <path d=\"M19 3H5c-1.1 0-2 .9-2 2v14c0 1.1.9 2 2 2h14c1.1 0 2-.9 2-2V5c0-1.1-.9-2-2-2zM9 17H7v-7h2v7zm4 0h-2V7h2v10zm4 0h-2v-4h2v4z\"/>\n",
              "    </g>\n",
              "</svg>\n",
              "  </button>\n",
              "\n",
              "<style>\n",
              "  .colab-df-quickchart {\n",
              "      --bg-color: #E8F0FE;\n",
              "      --fill-color: #1967D2;\n",
              "      --hover-bg-color: #E2EBFA;\n",
              "      --hover-fill-color: #174EA6;\n",
              "      --disabled-fill-color: #AAA;\n",
              "      --disabled-bg-color: #DDD;\n",
              "  }\n",
              "\n",
              "  [theme=dark] .colab-df-quickchart {\n",
              "      --bg-color: #3B4455;\n",
              "      --fill-color: #D2E3FC;\n",
              "      --hover-bg-color: #434B5C;\n",
              "      --hover-fill-color: #FFFFFF;\n",
              "      --disabled-bg-color: #3B4455;\n",
              "      --disabled-fill-color: #666;\n",
              "  }\n",
              "\n",
              "  .colab-df-quickchart {\n",
              "    background-color: var(--bg-color);\n",
              "    border: none;\n",
              "    border-radius: 50%;\n",
              "    cursor: pointer;\n",
              "    display: none;\n",
              "    fill: var(--fill-color);\n",
              "    height: 32px;\n",
              "    padding: 0;\n",
              "    width: 32px;\n",
              "  }\n",
              "\n",
              "  .colab-df-quickchart:hover {\n",
              "    background-color: var(--hover-bg-color);\n",
              "    box-shadow: 0 1px 2px rgba(60, 64, 67, 0.3), 0 1px 3px 1px rgba(60, 64, 67, 0.15);\n",
              "    fill: var(--button-hover-fill-color);\n",
              "  }\n",
              "\n",
              "  .colab-df-quickchart-complete:disabled,\n",
              "  .colab-df-quickchart-complete:disabled:hover {\n",
              "    background-color: var(--disabled-bg-color);\n",
              "    fill: var(--disabled-fill-color);\n",
              "    box-shadow: none;\n",
              "  }\n",
              "\n",
              "  .colab-df-spinner {\n",
              "    border: 2px solid var(--fill-color);\n",
              "    border-color: transparent;\n",
              "    border-bottom-color: var(--fill-color);\n",
              "    animation:\n",
              "      spin 1s steps(1) infinite;\n",
              "  }\n",
              "\n",
              "  @keyframes spin {\n",
              "    0% {\n",
              "      border-color: transparent;\n",
              "      border-bottom-color: var(--fill-color);\n",
              "      border-left-color: var(--fill-color);\n",
              "    }\n",
              "    20% {\n",
              "      border-color: transparent;\n",
              "      border-left-color: var(--fill-color);\n",
              "      border-top-color: var(--fill-color);\n",
              "    }\n",
              "    30% {\n",
              "      border-color: transparent;\n",
              "      border-left-color: var(--fill-color);\n",
              "      border-top-color: var(--fill-color);\n",
              "      border-right-color: var(--fill-color);\n",
              "    }\n",
              "    40% {\n",
              "      border-color: transparent;\n",
              "      border-right-color: var(--fill-color);\n",
              "      border-top-color: var(--fill-color);\n",
              "    }\n",
              "    60% {\n",
              "      border-color: transparent;\n",
              "      border-right-color: var(--fill-color);\n",
              "    }\n",
              "    80% {\n",
              "      border-color: transparent;\n",
              "      border-right-color: var(--fill-color);\n",
              "      border-bottom-color: var(--fill-color);\n",
              "    }\n",
              "    90% {\n",
              "      border-color: transparent;\n",
              "      border-bottom-color: var(--fill-color);\n",
              "    }\n",
              "  }\n",
              "</style>\n",
              "\n",
              "  <script>\n",
              "    async function quickchart(key) {\n",
              "      const quickchartButtonEl =\n",
              "        document.querySelector('#' + key + ' button');\n",
              "      quickchartButtonEl.disabled = true;  // To prevent multiple clicks.\n",
              "      quickchartButtonEl.classList.add('colab-df-spinner');\n",
              "      try {\n",
              "        const charts = await google.colab.kernel.invokeFunction(\n",
              "            'suggestCharts', [key], {});\n",
              "      } catch (error) {\n",
              "        console.error('Error during call to suggestCharts:', error);\n",
              "      }\n",
              "      quickchartButtonEl.classList.remove('colab-df-spinner');\n",
              "      quickchartButtonEl.classList.add('colab-df-quickchart-complete');\n",
              "    }\n",
              "    (() => {\n",
              "      let quickchartButtonEl =\n",
              "        document.querySelector('#df-3edc1bef-b3a2-4da9-be4f-6de95311d7e8 button');\n",
              "      quickchartButtonEl.style.display =\n",
              "        google.colab.kernel.accessAllowed ? 'block' : 'none';\n",
              "    })();\n",
              "  </script>\n",
              "</div>\n",
              "\n",
              "    </div>\n",
              "  </div>\n"
            ],
            "application/vnd.google.colaboratory.intrinsic+json": {
              "type": "dataframe",
              "variable_name": "x_test"
            }
          },
          "metadata": {},
          "execution_count": 153
        }
      ]
    },
    {
      "cell_type": "code",
      "source": [
        "x_test_encoded = encoder.fit_transform(x_test)"
      ],
      "metadata": {
        "id": "42by6FLa0RNl"
      },
      "execution_count": null,
      "outputs": []
    },
    {
      "cell_type": "code",
      "source": [
        "x_test_encoded.shape"
      ],
      "metadata": {
        "colab": {
          "base_uri": "https://localhost:8080/"
        },
        "id": "t2ZfPWpu06tP",
        "outputId": "705c0164-48e1-4eff-f269-bc2307864804"
      },
      "execution_count": null,
      "outputs": [
        {
          "output_type": "execute_result",
          "data": {
            "text/plain": [
              "(762015, 50)"
            ]
          },
          "metadata": {},
          "execution_count": 155
        }
      ]
    },
    {
      "cell_type": "code",
      "source": [
        "\n",
        "# Matching test data columns with train data columns\n",
        "all(x_train_encoded.columns == x_test_encoded.columns)"
      ],
      "metadata": {
        "colab": {
          "base_uri": "https://localhost:8080/"
        },
        "id": "zHMG5XIa1FUX",
        "outputId": "f3130b82-98db-43f1-aa89-f44f41bb8ce3"
      },
      "execution_count": null,
      "outputs": [
        {
          "output_type": "execute_result",
          "data": {
            "text/plain": [
              "True"
            ]
          },
          "metadata": {},
          "execution_count": 156
        }
      ]
    },
    {
      "cell_type": "code",
      "source": [
        "x_train = x_train_encoded"
      ],
      "metadata": {
        "id": "WVbCpXhE3Mtn"
      },
      "execution_count": null,
      "outputs": []
    },
    {
      "cell_type": "code",
      "source": [
        "x_test = x_test_encoded"
      ],
      "metadata": {
        "id": "LspSADBq3Q1I"
      },
      "execution_count": null,
      "outputs": []
    },
    {
      "cell_type": "code",
      "source": [
        "# Cleaned and processed train data\n",
        "pickle.dump((x_train, y_train), open(file_path+'final_train.pkl', 'wb'))"
      ],
      "metadata": {
        "id": "U1VwA7zD1eMZ"
      },
      "execution_count": null,
      "outputs": []
    },
    {
      "cell_type": "code",
      "source": [
        "pickle.dump((x_test, y_test), open(file_path+'final_test.pkl', 'wb'))"
      ],
      "metadata": {
        "id": "OpBGvkjd1tq_"
      },
      "execution_count": null,
      "outputs": []
    },
    {
      "cell_type": "code",
      "source": [
        "saved_dict['columns'] = x_train_encoded.columns"
      ],
      "metadata": {
        "id": "3A_aFEVA3JDw"
      },
      "execution_count": null,
      "outputs": []
    },
    {
      "cell_type": "code",
      "source": [
        "pickle.dump(saved_dict, open(file_path+'saved_dict.pkl', 'wb'))  # Dictionary with important parameters"
      ],
      "metadata": {
        "id": "AFKU15dpUF7g"
      },
      "execution_count": null,
      "outputs": []
    },
    {
      "cell_type": "code",
      "source": [],
      "metadata": {
        "id": "RzbW10kGWzQO"
      },
      "execution_count": null,
      "outputs": []
    }
  ]
}