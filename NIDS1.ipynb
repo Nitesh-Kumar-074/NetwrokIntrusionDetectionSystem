{
  "cells": [
    {
      "cell_type": "markdown",
      "metadata": {
        "id": "view-in-github",
        "colab_type": "text"
      },
      "source": [
        "<a href=\"https://colab.research.google.com/github/Nitesh-Kumar-074/NetwrokIntrusionDetectionSystem/blob/main/NIDS1.ipynb\" target=\"_parent\"><img src=\"https://colab.research.google.com/assets/colab-badge.svg\" alt=\"Open In Colab\"/></a>"
      ]
    },
    {
      "cell_type": "code",
      "source": [
        "from google.colab import drive\n",
        "drive.mount('/content/drive')"
      ],
      "metadata": {
        "colab": {
          "base_uri": "https://localhost:8080/"
        },
        "id": "Ss4NNSmKR1u0",
        "outputId": "27c86eea-f46d-40e6-c717-f726ea36d035"
      },
      "execution_count": null,
      "outputs": [
        {
          "output_type": "stream",
          "name": "stdout",
          "text": [
            "Drive already mounted at /content/drive; to attempt to forcibly remount, call drive.mount(\"/content/drive\", force_remount=True).\n"
          ]
        }
      ]
    },
    {
      "cell_type": "code",
      "execution_count": null,
      "metadata": {
        "id": "ydP1eqXc8sLI"
      },
      "outputs": [],
      "source": [
        "import pandas as pd\n",
        "import numpy as np\n",
        "import matplotlib.pyplot as plt\n",
        "import seaborn as sns\n",
        "from scipy import stats\n",
        "from sklearn.model_selection import train_test_split\n",
        "import pickle"
      ]
    },
    {
      "cell_type": "code",
      "source": [
        "saved_dict = {}"
      ],
      "metadata": {
        "id": "CEGXWe07ujPC"
      },
      "execution_count": null,
      "outputs": []
    },
    {
      "cell_type": "code",
      "execution_count": null,
      "metadata": {
        "id": "9UpRYZ_B65XY",
        "colab": {
          "base_uri": "https://localhost:8080/"
        },
        "outputId": "82b43459-07dd-4163-f55e-609bd68acffa"
      },
      "outputs": [
        {
          "output_type": "stream",
          "name": "stderr",
          "text": [
            "<ipython-input-4-9ae2605f0da7>:6: DtypeWarning: Columns (1,3,47) have mixed types. Specify dtype option on import or set low_memory=False.\n",
            "  dfs.append(pd.read_csv(path.format(i), header = None))\n",
            "<ipython-input-4-9ae2605f0da7>:6: DtypeWarning: Columns (3,39,47) have mixed types. Specify dtype option on import or set low_memory=False.\n",
            "  dfs.append(pd.read_csv(path.format(i), header = None))\n"
          ]
        }
      ],
      "source": [
        "# df_chunks = pd.read_csv('UNSW-NB15_4.csv',chunksize=10000)\n",
        "# dataset = pd.concat(df_chunks,ignore_index=True)\n",
        "dfs = []\n",
        "for i in range(1,5):\n",
        "    path = '/content/drive/MyDrive/UNSW-NB15_{}.csv'  # There are 4 input csv files\n",
        "    dfs.append(pd.read_csv(path.format(i), header = None))\n",
        "all_data = pd.concat(dfs).reset_index(drop=True)  # Concat all to a single df"
      ]
    },
    {
      "cell_type": "code",
      "source": [
        "all_data.shape"
      ],
      "metadata": {
        "colab": {
          "base_uri": "https://localhost:8080/"
        },
        "id": "oCeowGcu4Iqy",
        "outputId": "7948ac85-57d1-4bc2-a0c6-f0081beb4910"
      },
      "execution_count": null,
      "outputs": [
        {
          "output_type": "execute_result",
          "data": {
            "text/plain": [
              "(2540047, 49)"
            ]
          },
          "metadata": {},
          "execution_count": 5
        }
      ]
    },
    {
      "cell_type": "code",
      "execution_count": null,
      "metadata": {
        "id": "if9UvT-2KBd7"
      },
      "outputs": [],
      "source": [
        "df_col = pd.read_csv('/content/drive/MyDrive/NUSW-NB15_features.csv',encoding='ISO-8859-1')"
      ]
    },
    {
      "cell_type": "code",
      "execution_count": null,
      "metadata": {
        "id": "mHYC2SOLKMk_"
      },
      "outputs": [],
      "source": [
        "df_col['Name'] = df_col['Name'].apply(lambda x : x.strip().replace(' ','').lower())"
      ]
    },
    {
      "cell_type": "code",
      "execution_count": null,
      "metadata": {
        "id": "D9szuCMyKblp"
      },
      "outputs": [],
      "source": [
        "all_data.columns = df_col['Name']"
      ]
    },
    {
      "cell_type": "code",
      "source": [
        "# Saving useful info, later this will be used to transform raw test data\n",
        "saved_dict['columns'] = df_col['Name'][df_col['Name']!='label'].tolist()"
      ],
      "metadata": {
        "id": "QZWEg9fju57n"
      },
      "execution_count": null,
      "outputs": []
    },
    {
      "cell_type": "code",
      "execution_count": null,
      "metadata": {
        "colab": {
          "base_uri": "https://localhost:8080/",
          "height": 482
        },
        "id": "Ox3y_JRvKlms",
        "outputId": "40f705ab-59d7-4411-b5db-504eaca5ea7b"
      },
      "outputs": [
        {
          "output_type": "execute_result",
          "data": {
            "text/plain": [
              "<Axes: xlabel='label', ylabel='count'>"
            ]
          },
          "metadata": {},
          "execution_count": 10
        },
        {
          "output_type": "display_data",
          "data": {
            "text/plain": [
              "<Figure size 640x480 with 1 Axes>"
            ],
            "image/png": "[encoded data removed]"
          },
          "metadata": {}
        }
      ],
      "source": [
        "sns.countplot(all_data,x='label')"
      ]
    },
    {
      "cell_type": "code",
      "execution_count": null,
      "metadata": {
        "colab": {
          "base_uri": "https://localhost:8080/",
          "height": 255
        },
        "id": "Y61VR_4nK3Pv",
        "outputId": "b47b7515-e6b8-4560-ce35-680df7dc011b"
      },
      "outputs": [
        {
          "output_type": "execute_result",
          "data": {
            "text/plain": [
              "Name       srcip  sport          dstip dsport proto state       dur  sbytes  \\\n",
              "0     59.166.0.0   1390  149.171.126.6     53   udp   CON  0.001055     132   \n",
              "1     59.166.0.0  33661  149.171.126.9   1024   udp   CON  0.036133     528   \n",
              "2     59.166.0.6   1464  149.171.126.7     53   udp   CON  0.001119     146   \n",
              "3     59.166.0.5   3593  149.171.126.5     53   udp   CON  0.001209     132   \n",
              "4     59.166.0.3  49664  149.171.126.0     53   udp   CON  0.001169     146   \n",
              "\n",
              "Name  dbytes  sttl  ...  ct_ftp_cmd  ct_srv_src  ct_srv_dst ct_dst_ltm  \\\n",
              "0        164    31  ...           0           3           7          1   \n",
              "1        304    31  ...           0           2           4          2   \n",
              "2        178    31  ...           0          12           8          1   \n",
              "3        164    31  ...           0           6           9          1   \n",
              "4        178    31  ...           0           7           9          1   \n",
              "\n",
              "Name  ct_src_ltm  ct_src_dport_ltm  ct_dst_sport_ltm  ct_dst_src_ltm  \\\n",
              "0              3                 1                 1               1   \n",
              "1              3                 1                 1               2   \n",
              "2              2                 2                 1               1   \n",
              "3              1                 1                 1               1   \n",
              "4              1                 1                 1               1   \n",
              "\n",
              "Name  attack_cat  label  \n",
              "0            NaN      0  \n",
              "1            NaN      0  \n",
              "2            NaN      0  \n",
              "3            NaN      0  \n",
              "4            NaN      0  \n",
              "\n",
              "[5 rows x 49 columns]"
            ],
            "text/html": [
              "\n",
              "  <div id=\"df-eac61bfb-b2fe-4218-89e8-86363081a6e1\" class=\"colab-df-container\">\n",
              "    <div>\n",
              "<style scoped>\n",
              "    .dataframe tbody tr th:only-of-type {\n",
              "        vertical-align: middle;\n",
              "    }\n",
              "\n",
              "    .dataframe tbody tr th {\n",
              "        vertical-align: top;\n",
              "    }\n",
              "\n",
              "    .dataframe thead th {\n",
              "        text-align: right;\n",
              "    }\n",
              "</style>\n",
              "<table border=\"1\" class=\"dataframe\">\n",
              "  <thead>\n",
              "    <tr style=\"text-align: right;\">\n",
              "      <th>Name</th>\n",
              "      <th>srcip</th>\n",
              "      <th>sport</th>\n",
              "      <th>dstip</th>\n",
              "      <th>dsport</th>\n",
              "      <th>proto</th>\n",
              "      <th>state</th>\n",
              "      <th>dur</th>\n",
              "      <th>sbytes</th>\n",
              "      <th>dbytes</th>\n",
              "      <th>sttl</th>\n",
              "      <th>...</th>\n",
              "      <th>ct_ftp_cmd</th>\n",
              "      <th>ct_srv_src</th>\n",
              "      <th>ct_srv_dst</th>\n",
              "      <th>ct_dst_ltm</th>\n",
              "      <th>ct_src_ltm</th>\n",
              "      <th>ct_src_dport_ltm</th>\n",
              "      <th>ct_dst_sport_ltm</th>\n",
              "      <th>ct_dst_src_ltm</th>\n",
              "      <th>attack_cat</th>\n",
              "      <th>label</th>\n",
              "    </tr>\n",
              "  </thead>\n",
              "  <tbody>\n",
              "    <tr>\n",
              "      <th>0</th>\n",
              "      <td>59.166.0.0</td>\n",
              "      <td>1390</td>\n",
              "      <td>149.171.126.6</td>\n",
              "      <td>53</td>\n",
              "      <td>udp</td>\n",
              "      <td>CON</td>\n",
              "      <td>0.001055</td>\n",
              "      <td>132</td>\n",
              "      <td>164</td>\n",
              "      <td>31</td>\n",
              "      <td>...</td>\n",
              "      <td>0</td>\n",
              "      <td>3</td>\n",
              "      <td>7</td>\n",
              "      <td>1</td>\n",
              "      <td>3</td>\n",
              "      <td>1</td>\n",
              "      <td>1</td>\n",
              "      <td>1</td>\n",
              "      <td>NaN</td>\n",
              "      <td>0</td>\n",
              "    </tr>\n",
              "    <tr>\n",
              "      <th>1</th>\n",
              "      <td>59.166.0.0</td>\n",
              "      <td>33661</td>\n",
              "      <td>149.171.126.9</td>\n",
              "      <td>1024</td>\n",
              "      <td>udp</td>\n",
              "      <td>CON</td>\n",
              "      <td>0.036133</td>\n",
              "      <td>528</td>\n",
              "      <td>304</td>\n",
              "      <td>31</td>\n",
              "      <td>...</td>\n",
              "      <td>0</td>\n",
              "      <td>2</td>\n",
              "      <td>4</td>\n",
              "      <td>2</td>\n",
              "      <td>3</td>\n",
              "      <td>1</td>\n",
              "      <td>1</td>\n",
              "      <td>2</td>\n",
              "      <td>NaN</td>\n",
              "      <td>0</td>\n",
              "    </tr>\n",
              "    <tr>\n",
              "      <th>2</th>\n",
              "      <td>59.166.0.6</td>\n",
              "      <td>1464</td>\n",
              "      <td>149.171.126.7</td>\n",
              "      <td>53</td>\n",
              "      <td>udp</td>\n",
              "      <td>CON</td>\n",
              "      <td>0.001119</td>\n",
              "      <td>146</td>\n",
              "      <td>178</td>\n",
              "      <td>31</td>\n",
              "      <td>...</td>\n",
              "      <td>0</td>\n",
              "      <td>12</td>\n",
              "      <td>8</td>\n",
              "      <td>1</td>\n",
              "      <td>2</td>\n",
              "      <td>2</td>\n",
              "      <td>1</td>\n",
              "      <td>1</td>\n",
              "      <td>NaN</td>\n",
              "      <td>0</td>\n",
              "    </tr>\n",
              "    <tr>\n",
              "      <th>3</th>\n",
              "      <td>59.166.0.5</td>\n",
              "      <td>3593</td>\n",
              "      <td>149.171.126.5</td>\n",
              "      <td>53</td>\n",
              "      <td>udp</td>\n",
              "      <td>CON</td>\n",
              "      <td>0.001209</td>\n",
              "      <td>132</td>\n",
              "      <td>164</td>\n",
              "      <td>31</td>\n",
              "      <td>...</td>\n",
              "      <td>0</td>\n",
              "      <td>6</td>\n",
              "      <td>9</td>\n",
              "      <td>1</td>\n",
              "      <td>1</td>\n",
              "      <td>1</td>\n",
              "      <td>1</td>\n",
              "      <td>1</td>\n",
              "      <td>NaN</td>\n",
              "      <td>0</td>\n",
              "    </tr>\n",
              "    <tr>\n",
              "      <th>4</th>\n",
              "      <td>59.166.0.3</td>\n",
              "      <td>49664</td>\n",
              "      <td>149.171.126.0</td>\n",
              "      <td>53</td>\n",
              "      <td>udp</td>\n",
              "      <td>CON</td>\n",
              "      <td>0.001169</td>\n",
              "      <td>146</td>\n",
              "      <td>178</td>\n",
              "      <td>31</td>\n",
              "      <td>...</td>\n",
              "      <td>0</td>\n",
              "      <td>7</td>\n",
              "      <td>9</td>\n",
              "      <td>1</td>\n",
              "      <td>1</td>\n",
              "      <td>1</td>\n",
              "      <td>1</td>\n",
              "      <td>1</td>\n",
              "      <td>NaN</td>\n",
              "      <td>0</td>\n",
              "    </tr>\n",
              "  </tbody>\n",
              "</table>\n",
              "<p>5 rows × 49 columns</p>\n",
              "</div>\n",
              "    <div class=\"colab-df-buttons\">\n",
              "\n",
              "  <div class=\"colab-df-container\">\n",
              "    <button class=\"colab-df-convert\" onclick=\"convertToInteractive('df-eac61bfb-b2fe-4218-89e8-86363081a6e1')\"\n",
              "            title=\"Convert this dataframe to an interactive table.\"\n",
              "            style=\"display:none;\">\n",
              "\n",
              "  <svg xmlns=\"http://www.w3.org/2000/svg\" height=\"24px\" viewBox=\"0 -960 960 960\">\n",
              "    <path d=\"M120-120v-720h720v720H120Zm60-500h600v-160H180v160Zm220 220h160v-160H400v160Zm0 220h160v-160H400v160ZM180-400h160v-160H180v160Zm440 0h160v-160H620v160ZM180-180h160v-160H180v160Zm440 0h160v-160H620v160Z\"/>\n",
              "  </svg>\n",
              "    </button>\n",
              "\n",
              "  <style>\n",
              "    .colab-df-container {\n",
              "      display:flex;\n",
              "      gap: 12px;\n",
              "    }\n",
              "\n",
              "    .colab-df-convert {\n",
              "      background-color: #E8F0FE;\n",
              "      border: none;\n",
              "      border-radius: 50%;\n",
              "      cursor: pointer;\n",
              "      display: none;\n",
              "      fill: #1967D2;\n",
              "      height: 32px;\n",
              "      padding: 0 0 0 0;\n",
              "      width: 32px;\n",
              "    }\n",
              "\n",
              "    .colab-df-convert:hover {\n",
              "      background-color: #E2EBFA;\n",
              "      box-shadow: 0px 1px 2px rgba(60, 64, 67, 0.3), 0px 1px 3px 1px rgba(60, 64, 67, 0.15);\n",
              "      fill: #174EA6;\n",
              "    }\n",
              "\n",
              "    .colab-df-buttons div {\n",
              "      margin-bottom: 4px;\n",
              "    }\n",
              "\n",
              "    [theme=dark] .colab-df-convert {\n",
              "      background-color: #3B4455;\n",
              "      fill: #D2E3FC;\n",
              "    }\n",
              "\n",
              "    [theme=dark] .colab-df-convert:hover {\n",
              "      background-color: #434B5C;\n",
              "      box-shadow: 0px 1px 3px 1px rgba(0, 0, 0, 0.15);\n",
              "      filter: drop-shadow(0px 1px 2px rgba(0, 0, 0, 0.3));\n",
              "      fill: #FFFFFF;\n",
              "    }\n",
              "  </style>\n",
              "\n",
              "    <script>\n",
              "      const buttonEl =\n",
              "        document.querySelector('#df-eac61bfb-b2fe-4218-89e8-86363081a6e1 button.colab-df-convert');\n",
              "      buttonEl.style.display =\n",
              "        google.colab.kernel.accessAllowed ? 'block' : 'none';\n",
              "\n",
              "      async function convertToInteractive(key) {\n",
              "        const element = document.querySelector('#df-eac61bfb-b2fe-4218-89e8-86363081a6e1');\n",
              "        const dataTable =\n",
              "          await google.colab.kernel.invokeFunction('convertToInteractive',\n",
              "                                                    [key], {});\n",
              "        if (!dataTable) return;\n",
              "\n",
              "        const docLinkHtml = 'Like what you see? Visit the ' +\n",
              "          '<a target=\"_blank\" href=https://colab.research.google.com/notebooks/data_table.ipynb>data table notebook</a>'\n",
              "          + ' to learn more about interactive tables.';\n",
              "        element.innerHTML = '';\n",
              "        dataTable['output_type'] = 'display_data';\n",
              "        await google.colab.output.renderOutput(dataTable, element);\n",
              "        const docLink = document.createElement('div');\n",
              "        docLink.innerHTML = docLinkHtml;\n",
              "        element.appendChild(docLink);\n",
              "      }\n",
              "    </script>\n",
              "  </div>\n",
              "\n",
              "\n",
              "<div id=\"df-0952c349-fc1e-498b-95a9-678f312e28fd\">\n",
              "  <button class=\"colab-df-quickchart\" onclick=\"quickchart('df-0952c349-fc1e-498b-95a9-678f312e28fd')\"\n",
              "            title=\"Suggest charts\"\n",
              "            style=\"display:none;\">\n",
              "\n",
              "<svg xmlns=\"http://www.w3.org/2000/svg\" height=\"24px\"viewBox=\"0 0 24 24\"\n",
              "     width=\"24px\">\n",
              "    <g>\n",
              "        <path d=\"M19 3H5c-1.1 0-2 .9-2 2v14c0 1.1.9 2 2 2h14c1.1 0 2-.9 2-2V5c0-1.1-.9-2-2-2zM9 17H7v-7h2v7zm4 0h-2V7h2v10zm4 0h-2v-4h2v4z\"/>\n",
              "    </g>\n",
              "</svg>\n",
              "  </button>\n",
              "\n",
              "<style>\n",
              "  .colab-df-quickchart {\n",
              "      --bg-color: #E8F0FE;\n",
              "      --fill-color: #1967D2;\n",
              "      --hover-bg-color: #E2EBFA;\n",
              "      --hover-fill-color: #174EA6;\n",
              "      --disabled-fill-color: #AAA;\n",
              "      --disabled-bg-color: #DDD;\n",
              "  }\n",
              "\n",
              "  [theme=dark] .colab-df-quickchart {\n",
              "      --bg-color: #3B4455;\n",
              "      --fill-color: #D2E3FC;\n",
              "      --hover-bg-color: #434B5C;\n",
              "      --hover-fill-color: #FFFFFF;\n",
              "      --disabled-bg-color: #3B4455;\n",
              "      --disabled-fill-color: #666;\n",
              "  }\n",
              "\n",
              "  .colab-df-quickchart {\n",
              "    background-color: var(--bg-color);\n",
              "    border: none;\n",
              "    border-radius: 50%;\n",
              "    cursor: pointer;\n",
              "    display: none;\n",
              "    fill: var(--fill-color);\n",
              "    height: 32px;\n",
              "    padding: 0;\n",
              "    width: 32px;\n",
              "  }\n",
              "\n",
              "  .colab-df-quickchart:hover {\n",
              "    background-color: var(--hover-bg-color);\n",
              "    box-shadow: 0 1px 2px rgba(60, 64, 67, 0.3), 0 1px 3px 1px rgba(60, 64, 67, 0.15);\n",
              "    fill: var(--button-hover-fill-color);\n",
              "  }\n",
              "\n",
              "  .colab-df-quickchart-complete:disabled,\n",
              "  .colab-df-quickchart-complete:disabled:hover {\n",
              "    background-color: var(--disabled-bg-color);\n",
              "    fill: var(--disabled-fill-color);\n",
              "    box-shadow: none;\n",
              "  }\n",
              "\n",
              "  .colab-df-spinner {\n",
              "    border: 2px solid var(--fill-color);\n",
              "    border-color: transparent;\n",
              "    border-bottom-color: var(--fill-color);\n",
              "    animation:\n",
              "      spin 1s steps(1) infinite;\n",
              "  }\n",
              "\n",
              "  @keyframes spin {\n",
              "    0% {\n",
              "      border-color: transparent;\n",
              "      border-bottom-color: var(--fill-color);\n",
              "      border-left-color: var(--fill-color);\n",
              "    }\n",
              "    20% {\n",
              "      border-color: transparent;\n",
              "      border-left-color: var(--fill-color);\n",
              "      border-top-color: var(--fill-color);\n",
              "    }\n",
              "    30% {\n",
              "      border-color: transparent;\n",
              "      border-left-color: var(--fill-color);\n",
              "      border-top-color: var(--fill-color);\n",
              "      border-right-color: var(--fill-color);\n",
              "    }\n",
              "    40% {\n",
              "      border-color: transparent;\n",
              "      border-right-color: var(--fill-color);\n",
              "      border-top-color: var(--fill-color);\n",
              "    }\n",
              "    60% {\n",
              "      border-color: transparent;\n",
              "      border-right-color: var(--fill-color);\n",
              "    }\n",
              "    80% {\n",
              "      border-color: transparent;\n",
              "      border-right-color: var(--fill-color);\n",
              "      border-bottom-color: var(--fill-color);\n",
              "    }\n",
              "    90% {\n",
              "      border-color: transparent;\n",
              "      border-bottom-color: var(--fill-color);\n",
              "    }\n",
              "  }\n",
              "</style>\n",
              "\n",
              "  <script>\n",
              "    async function quickchart(key) {\n",
              "      const quickchartButtonEl =\n",
              "        document.querySelector('#' + key + ' button');\n",
              "      quickchartButtonEl.disabled = true;  // To prevent multiple clicks.\n",
              "      quickchartButtonEl.classList.add('colab-df-spinner');\n",
              "      try {\n",
              "        const charts = await google.colab.kernel.invokeFunction(\n",
              "            'suggestCharts', [key], {});\n",
              "      } catch (error) {\n",
              "        console.error('Error during call to suggestCharts:', error);\n",
              "      }\n",
              "      quickchartButtonEl.classList.remove('colab-df-spinner');\n",
              "      quickchartButtonEl.classList.add('colab-df-quickchart-complete');\n",
              "    }\n",
              "    (() => {\n",
              "      let quickchartButtonEl =\n",
              "        document.querySelector('#df-0952c349-fc1e-498b-95a9-678f312e28fd button');\n",
              "      quickchartButtonEl.style.display =\n",
              "        google.colab.kernel.accessAllowed ? 'block' : 'none';\n",
              "    })();\n",
              "  </script>\n",
              "</div>\n",
              "\n",
              "    </div>\n",
              "  </div>\n"
            ],
            "application/vnd.google.colaboratory.intrinsic+json": {
              "type": "dataframe",
              "variable_name": "all_data"
            }
          },
          "metadata": {},
          "execution_count": 11
        }
      ],
      "source": [
        "all_data.head()"
      ]
    },
    {
      "cell_type": "code",
      "source": [
        "del df_col"
      ],
      "metadata": {
        "id": "iQxd_g6BUDW1"
      },
      "execution_count": null,
      "outputs": []
    },
    {
      "cell_type": "code",
      "source": [
        "train,test = train_test_split(all_data,test_size=0.3,random_state=16)"
      ],
      "metadata": {
        "id": "YL7d3gYQUq-U"
      },
      "execution_count": null,
      "outputs": []
    },
    {
      "cell_type": "code",
      "source": [
        "print(\"Shapes of train and test data\")\n",
        "print(train.shape,'\\n',test.shape)"
      ],
      "metadata": {
        "colab": {
          "base_uri": "https://localhost:8080/"
        },
        "id": "13C1tW6ZU2CK",
        "outputId": "3bee60e5-0884-4cfb-e73d-0ca804dc7fd7"
      },
      "execution_count": null,
      "outputs": [
        {
          "output_type": "stream",
          "name": "stdout",
          "text": [
            "Shapes of train and test data\n",
            "(1778032, 49) \n",
            " (762015, 49)\n"
          ]
        }
      ]
    },
    {
      "cell_type": "code",
      "source": [
        "print(\"Checking for null values in train data\")\n",
        "print(train.isnull().sum())"
      ],
      "metadata": {
        "colab": {
          "base_uri": "https://localhost:8080/"
        },
        "id": "lrgBAIcHVAY_",
        "outputId": "6167000c-2128-4bb7-b02c-648fff1c8498"
      },
      "execution_count": null,
      "outputs": [
        {
          "output_type": "stream",
          "name": "stdout",
          "text": [
            "Checking for null values in train data\n",
            "Name\n",
            "srcip                     0\n",
            "sport                     0\n",
            "dstip                     0\n",
            "dsport                    0\n",
            "proto                     0\n",
            "state                     0\n",
            "dur                       0\n",
            "sbytes                    0\n",
            "dbytes                    0\n",
            "sttl                      0\n",
            "dttl                      0\n",
            "sloss                     0\n",
            "dloss                     0\n",
            "service                   0\n",
            "sload                     0\n",
            "dload                     0\n",
            "spkts                     0\n",
            "dpkts                     0\n",
            "swin                      0\n",
            "dwin                      0\n",
            "stcpb                     0\n",
            "dtcpb                     0\n",
            "smeansz                   0\n",
            "dmeansz                   0\n",
            "trans_depth               0\n",
            "res_bdy_len               0\n",
            "sjit                      0\n",
            "djit                      0\n",
            "stime                     0\n",
            "ltime                     0\n",
            "sintpkt                   0\n",
            "dintpkt                   0\n",
            "tcprtt                    0\n",
            "synack                    0\n",
            "ackdat                    0\n",
            "is_sm_ips_ports           0\n",
            "ct_state_ttl              0\n",
            "ct_flw_http_mthd     943876\n",
            "is_ftp_login        1001037\n",
            "ct_ftp_cmd                0\n",
            "ct_srv_src                0\n",
            "ct_srv_dst                0\n",
            "ct_dst_ltm                0\n",
            "ct_src_ltm                0\n",
            "ct_src_dport_ltm          0\n",
            "ct_dst_sport_ltm          0\n",
            "ct_dst_src_ltm            0\n",
            "attack_cat          1552862\n",
            "label                     0\n",
            "dtype: int64\n"
          ]
        }
      ]
    },
    {
      "cell_type": "code",
      "source": [
        "print(\"Checking types of values exist under attack_cat before modification.\")\n",
        "print(train['attack_cat'].value_counts())"
      ],
      "metadata": {
        "colab": {
          "base_uri": "https://localhost:8080/"
        },
        "id": "bbz_dcG6VEsB",
        "outputId": "0b63de6d-d167-4060-fb57-23bf8efa4f2a"
      },
      "execution_count": null,
      "outputs": [
        {
          "output_type": "stream",
          "name": "stdout",
          "text": [
            "Checking types of values exist under attack_cat before modification.\n",
            "attack_cat\n",
            "Generic             150906\n",
            "Exploits             31507\n",
            " Fuzzers             13345\n",
            "DoS                  11433\n",
            " Reconnaissance       8544\n",
            " Fuzzers              3569\n",
            "Analysis              1855\n",
            "Backdoor              1242\n",
            "Reconnaissance        1220\n",
            " Shellcode             904\n",
            "Backdoors              374\n",
            "Shellcode              151\n",
            "Worms                  120\n",
            "Name: count, dtype: int64\n"
          ]
        }
      ]
    },
    {
      "cell_type": "code",
      "source": [
        "train['attack_cat'] = train.attack_cat.fillna(value='normal').apply(lambda x : x.strip().lower())\n",
        "print(\"\\nChecking types of values exist under attack_cat after modification.\")\n",
        "print(train['attack_cat'].value_counts())"
      ],
      "metadata": {
        "colab": {
          "base_uri": "https://localhost:8080/"
        },
        "id": "ABbMUiSNVKjr",
        "outputId": "52642900-db69-4e1c-cc0e-b2649e1fab98"
      },
      "execution_count": null,
      "outputs": [
        {
          "output_type": "stream",
          "name": "stdout",
          "text": [
            "\n",
            "Checking types of values exist under attack_cat after modification.\n",
            "attack_cat\n",
            "normal            1552862\n",
            "generic            150906\n",
            "exploits            31507\n",
            "fuzzers             16914\n",
            "dos                 11433\n",
            "reconnaissance       9764\n",
            "analysis             1855\n",
            "backdoor             1242\n",
            "shellcode            1055\n",
            "backdoors             374\n",
            "worms                 120\n",
            "Name: count, dtype: int64\n"
          ]
        }
      ]
    },
    {
      "cell_type": "code",
      "source": [
        "train['ct_flw_http_mthd'] = train.ct_flw_http_mthd.fillna(value=0)"
      ],
      "metadata": {
        "id": "WF0sboVFVPTC"
      },
      "execution_count": null,
      "outputs": []
    },
    {
      "cell_type": "code",
      "source": [
        "print(\"Values in is_ftp_login\")\n",
        "print(train['is_ftp_login'].value_counts())\n",
        "train['is_ftp_login'] = (train.is_ftp_login.fillna(value=0)).astype(int)"
      ],
      "metadata": {
        "colab": {
          "base_uri": "https://localhost:8080/"
        },
        "id": "Y9mrXGjHVUjh",
        "outputId": "1dd2c021-a3c2-4b5f-d474-59e875796e35"
      },
      "execution_count": null,
      "outputs": [
        {
          "output_type": "stream",
          "name": "stdout",
          "text": [
            "Values in is_ftp_login\n",
            "is_ftp_login\n",
            "0.0    746536\n",
            "1.0     30329\n",
            "4.0       109\n",
            "2.0        21\n",
            "Name: count, dtype: int64\n"
          ]
        }
      ]
    },
    {
      "cell_type": "code",
      "source": [
        "print(train.isnull().sum().sum())"
      ],
      "metadata": {
        "colab": {
          "base_uri": "https://localhost:8080/"
        },
        "id": "D5Z6tLxwVbUz",
        "outputId": "068ca39d-dda5-45ab-e507-40057fff055d"
      },
      "execution_count": null,
      "outputs": [
        {
          "output_type": "stream",
          "name": "stdout",
          "text": [
            "0\n"
          ]
        }
      ]
    },
    {
      "cell_type": "markdown",
      "source": [
        "There are no null values left in train data"
      ],
      "metadata": {
        "id": "cXj9cFVxVjSl"
      }
    },
    {
      "cell_type": "code",
      "source": [
        "print(test.isnull().sum().sum())"
      ],
      "metadata": {
        "colab": {
          "base_uri": "https://localhost:8080/"
        },
        "id": "VpVrc0kFViqb",
        "outputId": "ac0def78-0320-4b64-ab73-789f8f298177"
      },
      "execution_count": null,
      "outputs": [
        {
          "output_type": "stream",
          "name": "stdout",
          "text": [
            "1499013\n"
          ]
        }
      ]
    },
    {
      "cell_type": "markdown",
      "source": [
        "Test data is still raw"
      ],
      "metadata": {
        "id": "Vn13BLFbVtYW"
      }
    },
    {
      "cell_type": "code",
      "source": [
        "train_0,train_1 = (train['label'].value_counts()[0]/len(train.index),train['label'].value_counts()[1]/len(train.index))\n",
        "test_0,test_1 = (test['label'].value_counts()[0]/len(test.index),test['label'].value_counts()[1]/len(test.index))"
      ],
      "metadata": {
        "id": "LyTKoZ_pVrkK"
      },
      "execution_count": null,
      "outputs": []
    },
    {
      "cell_type": "code",
      "source": [
        "print(\"In training data : there are {} % of class 0 and {} % of class 1 \".format(train_0*100,train_1*100))\n",
        "print(\"In testing data : there are {} % of class 0 and {} % of class 1 \".format(test_0*100,test_1*100))"
      ],
      "metadata": {
        "colab": {
          "base_uri": "https://localhost:8080/"
        },
        "id": "ZRdRglKhV5S1",
        "outputId": "a1ea13bf-1b9a-4094-8e34-7e31c04f47e7"
      },
      "execution_count": null,
      "outputs": [
        {
          "output_type": "stream",
          "name": "stdout",
          "text": [
            "In training data : there are 87.33599845222133 % of class 0 and 12.664001547778666 % of class 1 \n",
            "In testing data : there are 87.38699369434984 % of class 0 and 12.613006305650151 % of class 1 \n"
          ]
        }
      ]
    },
    {
      "cell_type": "markdown",
      "source": [
        "We can clearly observe that there are so many non-attack as compared to attack."
      ],
      "metadata": {
        "id": "UhNeFLg0WCuM"
      }
    },
    {
      "cell_type": "code",
      "source": [
        "plt.figure()\n",
        "plt.title(\"class distribution of train and test dataset\")\n",
        "train['label'].value_counts().plot(kind='bar',color='b',label = \"train\")\n",
        "test['label'].value_counts().plot(kind='bar',color='red',label=\"test\")\n",
        "plt.xlabel(\"Class\")\n",
        "plt.ylabel(\"Count\")\n",
        "plt.show()"
      ],
      "metadata": {
        "colab": {
          "base_uri": "https://localhost:8080/",
          "height": 467
        },
        "id": "7zj2KIqRWBBJ",
        "outputId": "3ea7284b-7ef3-41d7-a55c-cd8e31790a3e"
      },
      "execution_count": null,
      "outputs": [
        {
          "output_type": "display_data",
          "data": {
            "text/plain": [
              "<Figure size 640x480 with 1 Axes>"
            ],
            "image/png": "[encoded data removed]"
          },
          "metadata": {}
        }
      ]
    },
    {
      "cell_type": "code",
      "source": [
        "print(\"All the data types in train\")\n",
        "print(train.dtypes.value_counts())"
      ],
      "metadata": {
        "colab": {
          "base_uri": "https://localhost:8080/"
        },
        "id": "9k42PX5fWP9-",
        "outputId": "5d27a28c-ce9c-481f-f0a6-ee560e0c0d0f"
      },
      "execution_count": null,
      "outputs": [
        {
          "output_type": "stream",
          "name": "stdout",
          "text": [
            "All the data types in train\n",
            "int64      29\n",
            "float64    11\n",
            "object      9\n",
            "Name: count, dtype: int64\n"
          ]
        }
      ]
    },
    {
      "cell_type": "code",
      "source": [
        "print(\"Categorical fetures are\")\n",
        "print(train.select_dtypes(exclude=np.number).columns)"
      ],
      "metadata": {
        "colab": {
          "base_uri": "https://localhost:8080/"
        },
        "id": "9UFC5a33WYYX",
        "outputId": "ff0a1bb9-cd3e-4a77-9367-6320e5630645"
      },
      "execution_count": null,
      "outputs": [
        {
          "output_type": "stream",
          "name": "stdout",
          "text": [
            "Categorical fetures are\n",
            "Index(['srcip', 'sport', 'dstip', 'dsport', 'proto', 'state', 'service',\n",
            "       'ct_ftp_cmd', 'attack_cat'],\n",
            "      dtype='object', name='Name')\n"
          ]
        }
      ]
    },
    {
      "cell_type": "markdown",
      "source": [
        "ct_ftp_cmd is a numerical feature not a categorical feature"
      ],
      "metadata": {
        "id": "w6g9WM93WjZO"
      }
    },
    {
      "cell_type": "code",
      "source": [
        "print(train[\"ct_ftp_cmd\"].unique())"
      ],
      "metadata": {
        "colab": {
          "base_uri": "https://localhost:8080/"
        },
        "id": "mDxMNM5aWcVF",
        "outputId": "d38632a4-b029-49c2-9b2f-e6207710bc25"
      },
      "execution_count": null,
      "outputs": [
        {
          "output_type": "stream",
          "name": "stdout",
          "text": [
            "[0 ' ' 1 '1' '0' 5 2 3 4 '4' 6 '2' 8]\n"
          ]
        }
      ]
    },
    {
      "cell_type": "code",
      "source": [
        "train['ct_ftp_cmd'] = train['ct_ftp_cmd'].replace(to_replace=' ',value=0).astype(int)\n",
        "print(train['ct_ftp_cmd'].unique())"
      ],
      "metadata": {
        "colab": {
          "base_uri": "https://localhost:8080/"
        },
        "id": "o-ANeRVuWt-4",
        "outputId": "71fedea1-b004-4c06-f5e5-2f474fc40c00"
      },
      "execution_count": null,
      "outputs": [
        {
          "output_type": "stream",
          "name": "stdout",
          "text": [
            "[0 1 5 2 3 4 6 8]\n"
          ]
        }
      ]
    },
    {
      "cell_type": "code",
      "source": [
        "print(\"Now Categorical fetures are\")\n",
        "print(train.select_dtypes(exclude=np.number).columns)"
      ],
      "metadata": {
        "colab": {
          "base_uri": "https://localhost:8080/"
        },
        "id": "JGENnR1AWzp9",
        "outputId": "7112e62d-350f-4242-91c6-d3b7e038e343"
      },
      "execution_count": null,
      "outputs": [
        {
          "output_type": "stream",
          "name": "stdout",
          "text": [
            "Now Categorical fetures are\n",
            "Index(['srcip', 'sport', 'dstip', 'dsport', 'proto', 'state', 'service',\n",
            "       'attack_cat'],\n",
            "      dtype='object', name='Name')\n"
          ]
        }
      ]
    },
    {
      "cell_type": "code",
      "source": [
        "print(\"Numerical features are \")\n",
        "print(train.select_dtypes(include=np.number).columns)"
      ],
      "metadata": {
        "colab": {
          "base_uri": "https://localhost:8080/"
        },
        "id": "v4-k9zI7W4pP",
        "outputId": "738c3433-a872-4820-a15c-475435b4c05a"
      },
      "execution_count": null,
      "outputs": [
        {
          "output_type": "stream",
          "name": "stdout",
          "text": [
            "Numerical features are \n",
            "Index(['dur', 'sbytes', 'dbytes', 'sttl', 'dttl', 'sloss', 'dloss', 'sload',\n",
            "       'dload', 'spkts', 'dpkts', 'swin', 'dwin', 'stcpb', 'dtcpb', 'smeansz',\n",
            "       'dmeansz', 'trans_depth', 'res_bdy_len', 'sjit', 'djit', 'stime',\n",
            "       'ltime', 'sintpkt', 'dintpkt', 'tcprtt', 'synack', 'ackdat',\n",
            "       'is_sm_ips_ports', 'ct_state_ttl', 'ct_flw_http_mthd', 'is_ftp_login',\n",
            "       'ct_ftp_cmd', 'ct_srv_src', 'ct_srv_dst', 'ct_dst_ltm', 'ct_src_ltm',\n",
            "       'ct_src_dport_ltm', 'ct_dst_sport_ltm', 'ct_dst_src_ltm', 'label'],\n",
            "      dtype='object', name='Name')\n"
          ]
        }
      ]
    },
    {
      "cell_type": "markdown",
      "source": [
        "In NUSW-NB15_features.csv, it is mentioned that 'is_sm_ips_ports' and 'is_ftp_login' are binary features."
      ],
      "metadata": {
        "id": "nWrbz693XAr8"
      }
    },
    {
      "cell_type": "code",
      "source": [
        "# Info for test data transformation\n",
        "saved_dict['binary_col'] = ['is_sm_ips_ports', 'is_ftp_login']"
      ],
      "metadata": {
        "id": "8tq-ZZVkvu98"
      },
      "execution_count": null,
      "outputs": []
    },
    {
      "cell_type": "code",
      "source": [
        "for col in 'is_sm_ips_ports','is_ftp_login':\n",
        "    print(train[col].value_counts())"
      ],
      "metadata": {
        "colab": {
          "base_uri": "https://localhost:8080/"
        },
        "id": "sXmpoDFGW9gm",
        "outputId": "5452003f-ae6e-40e6-cff4-2d0423a8779e"
      },
      "execution_count": null,
      "outputs": [
        {
          "output_type": "stream",
          "name": "stdout",
          "text": [
            "is_sm_ips_ports\n",
            "0    1775116\n",
            "1       2916\n",
            "Name: count, dtype: int64\n",
            "is_ftp_login\n",
            "0    1747573\n",
            "1      30329\n",
            "4        109\n",
            "2         21\n",
            "Name: count, dtype: int64\n"
          ]
        }
      ]
    },
    {
      "cell_type": "markdown",
      "source": [
        "In is_ftp_login, all values greater than 1 are replaced by 1."
      ],
      "metadata": {
        "id": "bMdtBUEIXiPO"
      }
    },
    {
      "cell_type": "code",
      "source": [
        "train['is_ftp_login'] = np.where(train['is_ftp_login']>1,1,train['is_ftp_login'])\n",
        "print(\"Unique values of is_ftp_login\")\n",
        "print(train['is_ftp_login'].value_counts())"
      ],
      "metadata": {
        "colab": {
          "base_uri": "https://localhost:8080/"
        },
        "id": "baTzB2O7Xdgk",
        "outputId": "41d457ed-ef0a-43a1-8ad4-d5f5c249ee83"
      },
      "execution_count": null,
      "outputs": [
        {
          "output_type": "stream",
          "name": "stdout",
          "text": [
            "Unique values of is_ftp_login\n",
            "is_ftp_login\n",
            "0    1747573\n",
            "1      30459\n",
            "Name: count, dtype: int64\n"
          ]
        }
      ]
    },
    {
      "cell_type": "code",
      "source": [
        "print(train['proto'].value_counts())"
      ],
      "metadata": {
        "colab": {
          "base_uri": "https://localhost:8080/"
        },
        "id": "ig7XLYqGX1Gn",
        "outputId": "85a1e5b5-7111-43c2-e2d1-01096043d274"
      },
      "execution_count": null,
      "outputs": [
        {
          "output_type": "stream",
          "name": "stdout",
          "text": [
            "proto\n",
            "tcp     1046516\n",
            "udp      693140\n",
            "unas      11373\n",
            "arp        7070\n",
            "ospf       5455\n",
            "         ...   \n",
            "il           83\n",
            "igmp         47\n",
            "udt           6\n",
            "rtp           5\n",
            "esp           1\n",
            "Name: count, Length: 135, dtype: int64\n"
          ]
        }
      ]
    },
    {
      "cell_type": "code",
      "source": [
        "print(train['state'].value_counts())"
      ],
      "metadata": {
        "colab": {
          "base_uri": "https://localhost:8080/"
        },
        "id": "slZ2HoAoYB9V",
        "outputId": "eefd4ea4-b828-4b39-8ae7-429fc7f754b3"
      },
      "execution_count": null,
      "outputs": [
        {
          "output_type": "stream",
          "name": "stdout",
          "text": [
            "state\n",
            "FIN    1034981\n",
            "CON     392422\n",
            "INT     343397\n",
            "REQ       6361\n",
            "RST        368\n",
            "ECO        227\n",
            "CLO        108\n",
            "URH         78\n",
            "ACC         34\n",
            "PAR         20\n",
            "TST          8\n",
            "URN          7\n",
            "ECR          7\n",
            "no           6\n",
            "TXD          4\n",
            "MAS          4\n",
            "Name: count, dtype: int64\n"
          ]
        }
      ]
    },
    {
      "cell_type": "code",
      "source": [
        "print(train['service'].value_counts())"
      ],
      "metadata": {
        "colab": {
          "base_uri": "https://localhost:8080/"
        },
        "id": "lzbrqDHyYKBb",
        "outputId": "e4815df8-107a-473f-a84b-040aa0c764ad"
      },
      "execution_count": null,
      "outputs": [
        {
          "output_type": "stream",
          "name": "stdout",
          "text": [
            "service\n",
            "-           872286\n",
            "dns         547094\n",
            "http        144555\n",
            "ftp-data     88310\n",
            "smtp         57160\n",
            "ftp          34293\n",
            "ssh          32897\n",
            "pop3          1076\n",
            "dhcp           124\n",
            "ssl            109\n",
            "snmp            81\n",
            "radius          27\n",
            "irc             20\n",
            "Name: count, dtype: int64\n"
          ]
        }
      ]
    },
    {
      "cell_type": "markdown",
      "source": [
        "We can replace - values."
      ],
      "metadata": {
        "id": "y2-wxUvMYQ0P"
      }
    },
    {
      "cell_type": "code",
      "source": [
        "train['service'] = train['service'].apply(lambda x:\"None\" if x=='-' else x)"
      ],
      "metadata": {
        "id": "u17w6iQ_YO5E"
      },
      "execution_count": null,
      "outputs": []
    },
    {
      "cell_type": "code",
      "source": [
        "print(train['attack_cat'].value_counts())"
      ],
      "metadata": {
        "colab": {
          "base_uri": "https://localhost:8080/"
        },
        "id": "4wla9W5jYjXH",
        "outputId": "df33c082-4ad4-47b7-f7b7-1055c6a8fa0a"
      },
      "execution_count": null,
      "outputs": [
        {
          "output_type": "stream",
          "name": "stdout",
          "text": [
            "attack_cat\n",
            "normal            1552862\n",
            "generic            150906\n",
            "exploits            31507\n",
            "fuzzers             16914\n",
            "dos                 11433\n",
            "reconnaissance       9764\n",
            "analysis             1855\n",
            "backdoor             1242\n",
            "shellcode            1055\n",
            "backdoors             374\n",
            "worms                 120\n",
            "Name: count, dtype: int64\n"
          ]
        }
      ]
    },
    {
      "cell_type": "code",
      "source": [
        "train['attack_cat'] = train['attack_cat'].replace(\"backdoors\",\"backdoor\",regex=True).apply(lambda x : x.strip().lower())"
      ],
      "metadata": {
        "id": "RZNWmRMJYp8E"
      },
      "execution_count": null,
      "outputs": []
    },
    {
      "cell_type": "code",
      "source": [
        "print(train['attack_cat'].value_counts())"
      ],
      "metadata": {
        "colab": {
          "base_uri": "https://localhost:8080/"
        },
        "id": "TI-r91asYxfH",
        "outputId": "6e604989-1a3c-4164-b085-1af0ef108f44"
      },
      "execution_count": null,
      "outputs": [
        {
          "output_type": "stream",
          "name": "stdout",
          "text": [
            "attack_cat\n",
            "normal            1552862\n",
            "generic            150906\n",
            "exploits            31507\n",
            "fuzzers             16914\n",
            "dos                 11433\n",
            "reconnaissance       9764\n",
            "analysis             1855\n",
            "backdoor             1616\n",
            "shellcode            1055\n",
            "worms                 120\n",
            "Name: count, dtype: int64\n"
          ]
        }
      ]
    },
    {
      "cell_type": "code",
      "source": [
        "train.shape"
      ],
      "metadata": {
        "id": "evJb-u_sYzmD",
        "colab": {
          "base_uri": "https://localhost:8080/"
        },
        "outputId": "8c99e47f-bcc4-4cdc-dd2a-5276d6cdba27"
      },
      "execution_count": null,
      "outputs": [
        {
          "output_type": "execute_result",
          "data": {
            "text/plain": [
              "(1778032, 49)"
            ]
          },
          "metadata": {},
          "execution_count": 41
        }
      ]
    },
    {
      "cell_type": "code",
      "source": [
        "train.info()"
      ],
      "metadata": {
        "colab": {
          "base_uri": "https://localhost:8080/"
        },
        "id": "AENPc3dzYKUS",
        "outputId": "904934f9-0f12-475d-b0c3-8808aa29a579"
      },
      "execution_count": null,
      "outputs": [
        {
          "output_type": "stream",
          "name": "stdout",
          "text": [
            "<class 'pandas.core.frame.DataFrame'>\n",
            "Index: 1778032 entries, 81030 to 2079982\n",
            "Data columns (total 49 columns):\n",
            " #   Column            Dtype  \n",
            "---  ------            -----  \n",
            " 0   srcip             object \n",
            " 1   sport             object \n",
            " 2   dstip             object \n",
            " 3   dsport            object \n",
            " 4   proto             object \n",
            " 5   state             object \n",
            " 6   dur               float64\n",
            " 7   sbytes            int64  \n",
            " 8   dbytes            int64  \n",
            " 9   sttl              int64  \n",
            " 10  dttl              int64  \n",
            " 11  sloss             int64  \n",
            " 12  dloss             int64  \n",
            " 13  service           object \n",
            " 14  sload             float64\n",
            " 15  dload             float64\n",
            " 16  spkts             int64  \n",
            " 17  dpkts             int64  \n",
            " 18  swin              int64  \n",
            " 19  dwin              int64  \n",
            " 20  stcpb             int64  \n",
            " 21  dtcpb             int64  \n",
            " 22  smeansz           int64  \n",
            " 23  dmeansz           int64  \n",
            " 24  trans_depth       int64  \n",
            " 25  res_bdy_len       int64  \n",
            " 26  sjit              float64\n",
            " 27  djit              float64\n",
            " 28  stime             int64  \n",
            " 29  ltime             int64  \n",
            " 30  sintpkt           float64\n",
            " 31  dintpkt           float64\n",
            " 32  tcprtt            float64\n",
            " 33  synack            float64\n",
            " 34  ackdat            float64\n",
            " 35  is_sm_ips_ports   int64  \n",
            " 36  ct_state_ttl      int64  \n",
            " 37  ct_flw_http_mthd  float64\n",
            " 38  is_ftp_login      int64  \n",
            " 39  ct_ftp_cmd        int64  \n",
            " 40  ct_srv_src        int64  \n",
            " 41  ct_srv_dst        int64  \n",
            " 42  ct_dst_ltm        int64  \n",
            " 43  ct_src_ltm        int64  \n",
            " 44  ct_src_dport_ltm  int64  \n",
            " 45  ct_dst_sport_ltm  int64  \n",
            " 46  ct_dst_src_ltm    int64  \n",
            " 47  attack_cat        object \n",
            " 48  label             int64  \n",
            "dtypes: float64(11), int64(30), object(8)\n",
            "memory usage: 678.3+ MB\n"
          ]
        }
      ]
    },
    {
      "cell_type": "code",
      "source": [
        "# train.to_csv('/content/drive/My Drive/train_data.csv', index=False)\n",
        "# print(\"Train dataset uploaded to Google Drive successfully!\")"
      ],
      "metadata": {
        "id": "kAtNO16PQHmx"
      },
      "execution_count": null,
      "outputs": []
    },
    {
      "cell_type": "code",
      "source": [
        "# test.to_csv('/content/drive/My Drive/test_data.csv', index=False)\n",
        "# print(\"Test dataset uploaded to Google Drive successfully!\")"
      ],
      "metadata": {
        "id": "Ov-wHcytR4N_"
      },
      "execution_count": null,
      "outputs": []
    },
    {
      "cell_type": "code",
      "source": [
        "file_path = '/content/drive/My Drive/'"
      ],
      "metadata": {
        "id": "NHKD5C5UwPjd"
      },
      "execution_count": null,
      "outputs": []
    },
    {
      "cell_type": "code",
      "source": [
        "pickle.dump(saved_dict, open(file_path+'saved_dict.pkl', 'wb'))  # Dictionary with important parameters"
      ],
      "metadata": {
        "id": "e1UShPxWufQx"
      },
      "execution_count": null,
      "outputs": []
    },
    {
      "cell_type": "code",
      "source": [],
      "metadata": {
        "id": "t_Yok0S-wi0_"
      },
      "execution_count": null,
      "outputs": []
    }
  ],
  "metadata": {
    "colab": {
      "provenance": [],
      "toc_visible": true,
      "mount_file_id": "1et74M7-ydhMZYRJ4v8lBOLKeerxIRACk",
      "authorship_tag": "ABX9TyMue3j9+S7O8kRSh3Jz8p/g",
      "include_colab_link": true
    },
    "kernelspec": {
      "display_name": "Python 3",
      "name": "python3"
    },
    "language_info": {
      "name": "python"
    }
  },
  "nbformat": 4,
  "nbformat_minor": 0
}